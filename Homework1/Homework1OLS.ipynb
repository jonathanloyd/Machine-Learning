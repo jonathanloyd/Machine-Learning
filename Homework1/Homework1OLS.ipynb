{
 "cells": [
  {
   "cell_type": "code",
   "execution_count": null,
   "id": "883182c8",
   "metadata": {},
   "outputs": [],
   "source": [
    "#Author: Jonathan Loyd\n",
    "#Description: Python3 Using OLS on Wine Test Data\n",
    "#CSE590-12 Project 1"
   ]
  },
  {
   "cell_type": "code",
   "execution_count": 1,
   "id": "4ed18eb8",
   "metadata": {},
   "outputs": [],
   "source": [
    "import pandas as pd\n",
    "import numpy as np\n",
    "from sklearn.linear_model import LinearRegression"
   ]
  },
  {
   "cell_type": "code",
   "execution_count": 2,
   "id": "6c662814",
   "metadata": {},
   "outputs": [],
   "source": [
    "# Get training and Testing data\n",
    "train_set = pd.read_csv(\"wine_train.csv\")\n",
    "test_set = pd.read_csv(\"wine_test.csv\")\n",
    "\n",
    "x_train = np.array(train_set[list(train_set.columns[1:-1])])\n",
    "y_train = np.array(train_set[\"quality\"])\n",
    "x_test = np.array(test_set[list(test_set.columns[1:-1])])\n",
    "y_test = np.array(test_set[\"quality\"])"
   ]
  },
  {
   "cell_type": "code",
   "execution_count": 3,
   "id": "b6a423af",
   "metadata": {},
   "outputs": [],
   "source": [
    "# Conduct OLS\n",
    "lr = LinearRegression().fit(x_train, y_train)"
   ]
  },
  {
   "cell_type": "code",
   "execution_count": 4,
   "id": "2a4e7e99",
   "metadata": {},
   "outputs": [
    {
     "name": "stdout",
     "output_type": "stream",
     "text": [
      "lr.coef_: [ 6.56051841e-02 -1.31845988e+00 -1.27628521e-01  4.13145088e-02\n",
      " -1.62638469e-01  5.86443061e-03 -2.48848975e-03 -4.85670283e+01\n",
      "  4.00902913e-01  6.76769740e-01  2.72929267e-01]\n",
      "lr.intercept_: 49.52309994728783\n"
     ]
    }
   ],
   "source": [
    "print(f'lr.coef_: {format(lr.coef_)}')\n",
    "print(f'lr.intercept_: {format(lr.intercept_)}')"
   ]
  },
  {
   "cell_type": "code",
   "execution_count": 5,
   "id": "a8876bb5",
   "metadata": {},
   "outputs": [
    {
     "name": "stdout",
     "output_type": "stream",
     "text": [
      "Training set score: 0.2761\n",
      "Test set score: 0.3367\n"
     ]
    }
   ],
   "source": [
    "print(f'Training set score: {lr.score(x_train, y_train):.4f}')\n",
    "print(f'Test set score: {lr.score(x_test, y_test):.4f}')"
   ]
  },
  {
   "cell_type": "code",
   "execution_count": null,
   "id": "6efcba2f",
   "metadata": {},
   "outputs": [],
   "source": [
    "\"\"\"Same performance as Lasso and Ridge with low alpha\"\"\""
   ]
  }
 ],
 "metadata": {
  "kernelspec": {
   "display_name": "Python 3 (ipykernel)",
   "language": "python",
   "name": "python3"
  },
  "language_info": {
   "codemirror_mode": {
    "name": "ipython",
    "version": 3
   },
   "file_extension": ".py",
   "mimetype": "text/x-python",
   "name": "python",
   "nbconvert_exporter": "python",
   "pygments_lexer": "ipython3",
   "version": "3.9.7"
  }
 },
 "nbformat": 4,
 "nbformat_minor": 5
}
