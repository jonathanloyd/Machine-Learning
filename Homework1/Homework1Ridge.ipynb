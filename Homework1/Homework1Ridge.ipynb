{
 "cells": [
  {
   "cell_type": "code",
   "execution_count": null,
   "id": "3f34f2fb",
   "metadata": {},
   "outputs": [],
   "source": [
    "#Author: Jonathan Loyd\n",
    "#Description: Python3 Using Ridge on Wine Test Data\n",
    "#CSE590-12 Project 1"
   ]
  },
  {
   "cell_type": "code",
   "execution_count": 1,
   "id": "9b0472cb",
   "metadata": {},
   "outputs": [],
   "source": [
    "import pandas as pd\n",
    "import numpy as np\n",
    "from sklearn.linear_model import Ridge"
   ]
  },
  {
   "cell_type": "code",
   "execution_count": 2,
   "id": "dbef930d",
   "metadata": {},
   "outputs": [],
   "source": [
    "# Get training and Testing data\n",
    "train_set = pd.read_csv(\"wine_train.csv\")\n",
    "test_set = pd.read_csv(\"wine_test.csv\")\n",
    "\n",
    "x_train = np.array(train_set[list(train_set.columns[1:-1])])\n",
    "y_train = np.array(train_set[\"quality\"])\n",
    "x_test = np.array(test_set[list(test_set.columns[1:-1])])\n",
    "y_test = np.array(test_set[\"quality\"])"
   ]
  },
  {
   "cell_type": "code",
   "execution_count": 3,
   "id": "a0fe4b24",
   "metadata": {},
   "outputs": [
    {
     "name": "stdout",
     "output_type": "stream",
     "text": [
      "Alpha: 100.00 Training set score: 0.2584 Test set score: 0.3054\t\n",
      "Alpha: 99.00 Training set score: 0.2586 Test set score: 0.3056\t\n",
      "Alpha: 98.00 Training set score: 0.2587 Test set score: 0.3058\t\n",
      "Alpha: 97.00 Training set score: 0.2588 Test set score: 0.3060\t\n",
      "Alpha: 96.00 Training set score: 0.2590 Test set score: 0.3062\t\n",
      "Alpha: 95.00 Training set score: 0.2591 Test set score: 0.3065\t\n",
      "Alpha: 94.00 Training set score: 0.2593 Test set score: 0.3067\t\n",
      "Alpha: 93.00 Training set score: 0.2594 Test set score: 0.3069\t\n",
      "Alpha: 92.00 Training set score: 0.2596 Test set score: 0.3071\t\n",
      "Alpha: 91.00 Training set score: 0.2597 Test set score: 0.3073\t\n",
      "Alpha: 90.00 Training set score: 0.2599 Test set score: 0.3075\t\n",
      "Alpha: 89.00 Training set score: 0.2600 Test set score: 0.3077\t\n",
      "Alpha: 88.00 Training set score: 0.2602 Test set score: 0.3079\t\n",
      "Alpha: 87.00 Training set score: 0.2603 Test set score: 0.3081\t\n",
      "Alpha: 86.00 Training set score: 0.2605 Test set score: 0.3084\t\n",
      "Alpha: 85.00 Training set score: 0.2606 Test set score: 0.3086\t\n",
      "Alpha: 84.00 Training set score: 0.2608 Test set score: 0.3088\t\n",
      "Alpha: 83.00 Training set score: 0.2609 Test set score: 0.3090\t\n",
      "Alpha: 82.00 Training set score: 0.2611 Test set score: 0.3092\t\n",
      "Alpha: 81.00 Training set score: 0.2612 Test set score: 0.3095\t\n",
      "Alpha: 80.00 Training set score: 0.2614 Test set score: 0.3097\t\n",
      "Alpha: 79.00 Training set score: 0.2616 Test set score: 0.3099\t\n",
      "Alpha: 78.00 Training set score: 0.2617 Test set score: 0.3101\t\n",
      "Alpha: 77.00 Training set score: 0.2619 Test set score: 0.3104\t\n",
      "Alpha: 76.00 Training set score: 0.2620 Test set score: 0.3106\t\n",
      "Alpha: 75.00 Training set score: 0.2622 Test set score: 0.3108\t\n",
      "Alpha: 74.00 Training set score: 0.2624 Test set score: 0.3111\t\n",
      "Alpha: 73.00 Training set score: 0.2625 Test set score: 0.3113\t\n",
      "Alpha: 72.00 Training set score: 0.2627 Test set score: 0.3116\t\n",
      "Alpha: 71.00 Training set score: 0.2628 Test set score: 0.3118\t\n",
      "Alpha: 70.00 Training set score: 0.2630 Test set score: 0.3120\t\n",
      "Alpha: 69.00 Training set score: 0.2632 Test set score: 0.3123\t\n",
      "Alpha: 68.00 Training set score: 0.2633 Test set score: 0.3125\t\n",
      "Alpha: 67.00 Training set score: 0.2635 Test set score: 0.3128\t\n",
      "Alpha: 66.00 Training set score: 0.2637 Test set score: 0.3130\t\n",
      "Alpha: 65.00 Training set score: 0.2639 Test set score: 0.3133\t\n",
      "Alpha: 64.00 Training set score: 0.2640 Test set score: 0.3135\t\n",
      "Alpha: 63.00 Training set score: 0.2642 Test set score: 0.3138\t\n",
      "Alpha: 62.00 Training set score: 0.2644 Test set score: 0.3141\t\n",
      "Alpha: 61.00 Training set score: 0.2645 Test set score: 0.3143\t\n",
      "Alpha: 60.00 Training set score: 0.2647 Test set score: 0.3146\t\n",
      "Alpha: 59.00 Training set score: 0.2649 Test set score: 0.3148\t\n",
      "Alpha: 58.00 Training set score: 0.2651 Test set score: 0.3151\t\n",
      "Alpha: 57.00 Training set score: 0.2653 Test set score: 0.3154\t\n",
      "Alpha: 56.00 Training set score: 0.2654 Test set score: 0.3156\t\n",
      "Alpha: 55.00 Training set score: 0.2656 Test set score: 0.3159\t\n",
      "Alpha: 54.00 Training set score: 0.2658 Test set score: 0.3162\t\n",
      "Alpha: 53.00 Training set score: 0.2660 Test set score: 0.3165\t\n",
      "Alpha: 52.00 Training set score: 0.2661 Test set score: 0.3167\t\n",
      "Alpha: 51.00 Training set score: 0.2663 Test set score: 0.3170\t\n",
      "Alpha: 50.00 Training set score: 0.2665 Test set score: 0.3173\t\n",
      "Alpha: 49.00 Training set score: 0.2667 Test set score: 0.3176\t\n",
      "Alpha: 48.00 Training set score: 0.2669 Test set score: 0.3179\t\n",
      "Alpha: 47.00 Training set score: 0.2671 Test set score: 0.3182\t\n",
      "Alpha: 46.00 Training set score: 0.2672 Test set score: 0.3184\t\n",
      "Alpha: 45.00 Training set score: 0.2674 Test set score: 0.3187\t\n",
      "Alpha: 44.00 Training set score: 0.2676 Test set score: 0.3190\t\n",
      "Alpha: 43.00 Training set score: 0.2678 Test set score: 0.3193\t\n",
      "Alpha: 42.00 Training set score: 0.2680 Test set score: 0.3196\t\n",
      "Alpha: 41.00 Training set score: 0.2682 Test set score: 0.3199\t\n",
      "Alpha: 40.00 Training set score: 0.2684 Test set score: 0.3202\t\n",
      "Alpha: 39.00 Training set score: 0.2685 Test set score: 0.3205\t\n",
      "Alpha: 38.00 Training set score: 0.2687 Test set score: 0.3208\t\n",
      "Alpha: 37.00 Training set score: 0.2689 Test set score: 0.3211\t\n",
      "Alpha: 36.00 Training set score: 0.2691 Test set score: 0.3214\t\n",
      "Alpha: 35.00 Training set score: 0.2693 Test set score: 0.3217\t\n",
      "Alpha: 34.00 Training set score: 0.2695 Test set score: 0.3220\t\n",
      "Alpha: 33.00 Training set score: 0.2697 Test set score: 0.3224\t\n",
      "Alpha: 32.00 Training set score: 0.2699 Test set score: 0.3227\t\n",
      "Alpha: 31.00 Training set score: 0.2700 Test set score: 0.3230\t\n",
      "Alpha: 30.00 Training set score: 0.2702 Test set score: 0.3233\t\n",
      "Alpha: 29.00 Training set score: 0.2704 Test set score: 0.3236\t\n",
      "Alpha: 28.00 Training set score: 0.2706 Test set score: 0.3239\t\n",
      "Alpha: 27.00 Training set score: 0.2708 Test set score: 0.3243\t\n",
      "Alpha: 26.00 Training set score: 0.2710 Test set score: 0.3246\t\n",
      "Alpha: 25.00 Training set score: 0.2711 Test set score: 0.3249\t\n",
      "Alpha: 24.00 Training set score: 0.2713 Test set score: 0.3252\t\n",
      "Alpha: 23.00 Training set score: 0.2715 Test set score: 0.3255\t\n",
      "Alpha: 22.00 Training set score: 0.2717 Test set score: 0.3259\t\n",
      "Alpha: 21.00 Training set score: 0.2718 Test set score: 0.3262\t\n",
      "Alpha: 20.00 Training set score: 0.2720 Test set score: 0.3265\t\n",
      "Alpha: 19.00 Training set score: 0.2722 Test set score: 0.3269\t\n",
      "Alpha: 18.00 Training set score: 0.2723 Test set score: 0.3272\t\n",
      "Alpha: 17.00 Training set score: 0.2725 Test set score: 0.3275\t\n",
      "Alpha: 16.00 Training set score: 0.2727 Test set score: 0.3278\t\n",
      "Alpha: 15.00 Training set score: 0.2728 Test set score: 0.3282\t\n",
      "Alpha: 14.00 Training set score: 0.2730 Test set score: 0.3285\t\n",
      "Alpha: 13.00 Training set score: 0.2731 Test set score: 0.3288\t\n",
      "Alpha: 12.00 Training set score: 0.2732 Test set score: 0.3292\t\n",
      "Alpha: 11.00 Training set score: 0.2734 Test set score: 0.3295\t\n",
      "Alpha: 10.00 Training set score: 0.2735 Test set score: 0.3298\t\n",
      "Alpha: 9.00 Training set score: 0.2736 Test set score: 0.3301\t\n",
      "Alpha: 8.00 Training set score: 0.2737 Test set score: 0.3305\t\n",
      "Alpha: 7.00 Training set score: 0.2738 Test set score: 0.3308\t\n",
      "Alpha: 6.00 Training set score: 0.2739 Test set score: 0.3311\t\n",
      "Alpha: 5.00 Training set score: 0.2740 Test set score: 0.3315\t\n",
      "Alpha: 4.00 Training set score: 0.2741 Test set score: 0.3318\t\n",
      "Alpha: 3.00 Training set score: 0.2742 Test set score: 0.3321\t\n",
      "Alpha: 2.00 Training set score: 0.2742 Test set score: 0.3325\t\n",
      "Alpha: 1.00 Training set score: 0.2742 Test set score: 0.3329\t\n",
      "Alpha: 0.00 Training set score: 0.2761 Test set score: 0.3367\t\n"
     ]
    }
   ],
   "source": [
    "# Conduct Ridge\n",
    "alpha_val = 101\n",
    "\n",
    "alpha_values = list()\n",
    "test_values = list()\n",
    "train_values = list()\n",
    "\n",
    "while alpha_val > 0:\n",
    "    alpha_val -= 1\n",
    "    ridge = Ridge(alpha=alpha_val).fit(x_train, y_train)\n",
    "    print(f'Alpha: {alpha_val:.2f}',\\\n",
    "          f'Training set score: {ridge.score(x_train, y_train):.4f}',\\\n",
    "          f'Test set score: {ridge.score(x_test, y_test):.4f}', end='\\t')\n",
    "    print(\"\")\n",
    "    alpha_values.append(alpha_val)\n",
    "    test_values.append(ridge.score(x_test, y_test))\n",
    "    train_values.append(ridge.score(x_train, y_train))"
   ]
  },
  {
   "cell_type": "code",
   "execution_count": 4,
   "id": "3a6cde1d",
   "metadata": {},
   "outputs": [
    {
     "data": {
      "image/png": "[encoded data removed]",
      "text/plain": [
       "<Figure size 432x288 with 1 Axes>"
      ]
     },
     "metadata": {
      "needs_background": "light"
     },
     "output_type": "display_data"
    }
   ],
   "source": [
    "import matplotlib.pyplot as plt\n",
    "plt.plot(alpha_values, test_values, label=\"Test\")\n",
    "plt.plot(alpha_values, train_values, label=\"Train\")\n",
    "plt.title('Ridge Varying Alpha Values')\n",
    "plt.ylabel('Score')\n",
    "plt.xlabel('Alpha')\n",
    "plt.legend()\n",
    "fig1 = plt.gcf()\n",
    "plt.show()\n",
    "fig1.savefig('Ridgefig.jpg')"
   ]
  },
  {
   "cell_type": "code",
   "execution_count": 4,
   "id": "65ffa1be",
   "metadata": {},
   "outputs": [
    {
     "data": {
      "text/plain": [
       "'Underfitting on as alpha increases'"
      ]
     },
     "execution_count": 4,
     "metadata": {},
     "output_type": "execute_result"
    }
   ],
   "source": [
    "\"\"\"Underfitting on as alpha increases\"\"\""
   ]
  }
 ],
 "metadata": {
  "kernelspec": {
   "display_name": "Python 3 (ipykernel)",
   "language": "python",
   "name": "python3"
  },
  "language_info": {
   "codemirror_mode": {
    "name": "ipython",
    "version": 3
   },
   "file_extension": ".py",
   "mimetype": "text/x-python",
   "name": "python",
   "nbconvert_exporter": "python",
   "pygments_lexer": "ipython3",
   "version": "3.9.7"
  }
 },
 "nbformat": 4,
 "nbformat_minor": 5
}
