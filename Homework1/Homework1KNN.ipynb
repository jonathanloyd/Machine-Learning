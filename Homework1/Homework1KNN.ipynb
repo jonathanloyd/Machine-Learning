{
 "cells": [
  {
   "cell_type": "code",
   "execution_count": null,
   "id": "f08a41d7",
   "metadata": {},
   "outputs": [],
   "source": [
    "#Author: Jonathan Loyd\n",
    "#Description: Python3 Using KNN on Wine Test Data\n",
    "#CSE590-12 Project 1"
   ]
  },
  {
   "cell_type": "code",
   "execution_count": 2,
   "id": "20ec74c4",
   "metadata": {},
   "outputs": [],
   "source": [
    "import pandas as pd\n",
    "import numpy as np\n",
    "\n",
    "# Get training and Testing data\n",
    "train_set = pd.read_csv(\"wine_train.csv\")\n",
    "test_set = pd.read_csv(\"wine_test.csv\")\n",
    "\n",
    "x_train = np.array(train_set[list(train_set.columns[1:-1])])\n",
    "y_train = np.array(train_set[\"quality\"])\n",
    "x_test = np.array(test_set[list(test_set.columns[1:-1])])\n",
    "y_test = np.array(test_set[\"quality\"])"
   ]
  },
  {
   "cell_type": "code",
   "execution_count": 3,
   "id": "91d50546",
   "metadata": {},
   "outputs": [],
   "source": [
    "from sklearn import neighbors\n",
    "import matplotlib.pyplot as plt"
   ]
  },
  {
   "cell_type": "code",
   "execution_count": 10,
   "id": "106f83e1",
   "metadata": {
    "scrolled": true
   },
   "outputs": [
    {
     "name": "stdout",
     "output_type": "stream",
     "text": [
      "-0.06883368809875723\n",
      "0.0680147752781256\n",
      "0.12044713672520735\n",
      "0.15787073470806157\n",
      "0.17183085094334705\n",
      "0.17495494581290227\n",
      "0.18446276985932253\n",
      "0.18752369287332904\n",
      "0.1970954814035889\n",
      "0.19952300264162315\n",
      "0.1934559501005092\n",
      "0.19481370271098442\n",
      "0.1955557188715028\n",
      "0.1929897163956783\n",
      "0.19819384227893966\n",
      "0.2025867320242103\n",
      "0.20476254674980732\n",
      "0.20307665448718193\n",
      "0.2011159950945245\n",
      "0.19503806952434355\n"
     ]
    }
   ],
   "source": [
    "# Conduct KNN\n",
    "test_values = list()\n",
    "train_values = list()\n",
    "for K in range(20):\n",
    "    K = K+1\n",
    "    reg = neighbors.KNeighborsRegressor(n_neighbors = K)\n",
    "    \n",
    "    reg.fit(x_train, y_train)\n",
    "    train_score = reg.score(x_train, y_train)\n",
    "    test_score = reg.score(x_test, y_test)\n",
    "    train_values.append(train_score)\n",
    "    test_values.append(test_score)\n",
    "#     print(f'Training score for k= {K} is: {train_score} & Test score = {test_score}')\n",
    "    print(test_score)"
   ]
  },
  {
   "cell_type": "code",
   "execution_count": 7,
   "id": "ae094c17",
   "metadata": {},
   "outputs": [
    {
     "data": {
      "image/png": "[encoded data removed]",
      "text/plain": [
       "<Figure size 432x288 with 1 Axes>"
      ]
     },
     "metadata": {
      "needs_background": "light"
     },
     "output_type": "display_data"
    }
   ],
   "source": [
    "# Graph KNN with Varying K Values\n",
    "k_list = list(range(1, 21))\n",
    "plt.plot(k_list, test_values, label=\"Test\")\n",
    "plt.plot(k_list, train_values, label=\"Train\")\n",
    "plt.title('KNN Varying K Values')\n",
    "plt.ylabel('Score')\n",
    "plt.xlabel('K')\n",
    "plt.legend()\n",
    "fig1 = plt.gcf()\n",
    "plt.show()\n",
    "fig1.savefig('KNNfig.jpg')"
   ]
  }
 ],
 "metadata": {
  "kernelspec": {
   "display_name": "Python 3 (ipykernel)",
   "language": "python",
   "name": "python3"
  },
  "language_info": {
   "codemirror_mode": {
    "name": "ipython",
    "version": 3
   },
   "file_extension": ".py",
   "mimetype": "text/x-python",
   "name": "python",
   "nbconvert_exporter": "python",
   "pygments_lexer": "ipython3",
   "version": "3.9.7"
  }
 },
 "nbformat": 4,
 "nbformat_minor": 5
}
