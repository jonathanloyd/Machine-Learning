{
 "cells": [
  {
   "cell_type": "code",
   "execution_count": null,
   "id": "082ed574",
   "metadata": {},
   "outputs": [],
   "source": [
    "#Author: Jonathan Loyd\n",
    "#Description: Python3 Using Lasso on Wine Test Data\n",
    "#CSE590-12 Project 1"
   ]
  },
  {
   "cell_type": "code",
   "execution_count": 1,
   "id": "495e772f",
   "metadata": {},
   "outputs": [],
   "source": [
    "import pandas as pd\n",
    "import numpy as np\n",
    "from sklearn.linear_model import Lasso"
   ]
  },
  {
   "cell_type": "code",
   "execution_count": 2,
   "id": "5ec8f9ca",
   "metadata": {},
   "outputs": [],
   "source": [
    "# Get training and Testing data\n",
    "train_set = pd.read_csv(\"wine_train.csv\")\n",
    "test_set = pd.read_csv(\"wine_test.csv\")\n",
    "\n",
    "x_train = np.array(train_set[list(train_set.columns[1:-1])])\n",
    "y_train = np.array(train_set[\"quality\"])\n",
    "x_test = np.array(test_set[list(test_set.columns[1:-1])])\n",
    "y_test = np.array(test_set[\"quality\"])"
   ]
  },
  {
   "cell_type": "code",
   "execution_count": 3,
   "id": "aba8c07b",
   "metadata": {},
   "outputs": [
    {
     "name": "stdout",
     "output_type": "stream",
     "text": [
      "Alpha value: 0.5\n",
      "Number of features used: 2 Training set score: 0.0107 Test set score: 0.0146\t\n",
      "Alpha value: 0.25\n",
      "Number of features used: 3 Training set score: 0.1445 Test set score: 0.1623\t\n",
      "Alpha value: 0.125\n",
      "Number of features used: 4 Training set score: 0.1960 Test set score: 0.2232\t\n",
      "Alpha value: 0.0625\n",
      "Number of features used: 4 Training set score: 0.2118 Test set score: 0.2436\t\n",
      "Alpha value: 0.03125\n",
      "Number of features used: 4 Training set score: 0.2157 Test set score: 0.2500\t\n",
      "Alpha value: 0.015625\n",
      "Number of features used: 5 Training set score: 0.2496 Test set score: 0.2926\t\n",
      "Alpha value: 0.0078125\n",
      "Number of features used: 7 Training set score: 0.2641 Test set score: 0.3130\t\n",
      "Alpha value: 0.00390625\n",
      "Number of features used: 7 Training set score: 0.2707 Test set score: 0.3238\t\n",
      "Alpha value: 0.001953125\n",
      "Number of features used: 8 Training set score: 0.2728 Test set score: 0.3282\t\n",
      "Alpha value: 0.0009765625\n",
      "Number of features used: 9 Training set score: 0.2737 Test set score: 0.3303\t\n",
      "Alpha value: 0.00048828125\n",
      "Number of features used: 9 Training set score: 0.2740 Test set score: 0.3312\t\n",
      "Alpha value: 0.000244140625\n",
      "Number of features used: 10 Training set score: 0.2741 Test set score: 0.3321\t\n",
      "Alpha value: 0.0001220703125\n",
      "Number of features used: 10 Training set score: 0.2742 Test set score: 0.3327\t\n",
      "Alpha value: 6.103515625e-05\n",
      "Number of features used: 10 Training set score: 0.2742 Test set score: 0.3331\t\n",
      "Alpha value: 3.0517578125e-05\n",
      "Number of features used: 10 Training set score: 0.2742 Test set score: 0.3332\t\n",
      "Alpha value: 1.52587890625e-05\n",
      "Number of features used: 11 Training set score: 0.2756 Test set score: 0.3352\t\n",
      "Alpha value: 7.62939453125e-06\n",
      "Number of features used: 11 Training set score: 0.2760 Test set score: 0.3361\t\n",
      "Alpha value: 3.814697265625e-06\n",
      "Number of features used: 11 Training set score: 0.2761 Test set score: 0.3364\t\n",
      "Alpha value: 1.9073486328125e-06\n",
      "Number of features used: 11 Training set score: 0.2761 Test set score: 0.3366\t\n",
      "Alpha value: 9.5367431640625e-07\n",
      "Number of features used: 11 Training set score: 0.2761 Test set score: 0.3367\t\n",
      "Alpha value: 4.76837158203125e-07\n",
      "Number of features used: 11 Training set score: 0.2761 Test set score: 0.3367\t\n",
      "Alpha value: 2.384185791015625e-07\n",
      "Number of features used: 11 Training set score: 0.2761 Test set score: 0.3367\t\n",
      "Alpha value: 1.1920928955078125e-07\n",
      "Number of features used: 11 Training set score: 0.2761 Test set score: 0.3367\t\n",
      "Alpha value: 5.960464477539063e-08\n",
      "Number of features used: 11 Training set score: 0.2761 Test set score: 0.3367\t\n",
      "Alpha value: 2.9802322387695312e-08\n",
      "Number of features used: 11 Training set score: 0.2761 Test set score: 0.3367\t\n",
      "Alpha value: 1.4901161193847656e-08\n",
      "Number of features used: 11 Training set score: 0.2761 Test set score: 0.3367\t\n",
      "Alpha value: 7.450580596923828e-09\n",
      "Number of features used: 11 Training set score: 0.2761 Test set score: 0.3367\t\n",
      "Alpha value: 3.725290298461914e-09\n",
      "Number of features used: 11 Training set score: 0.2761 Test set score: 0.3367\t\n",
      "Alpha value: 1.862645149230957e-09\n",
      "Number of features used: 11 Training set score: 0.2761 Test set score: 0.3367\t\n",
      "Alpha value: 9.313225746154785e-10\n",
      "Number of features used: 11 Training set score: 0.2761 Test set score: 0.3367\t\n",
      "Alpha value: 4.656612873077393e-10\n",
      "Number of features used: 11 Training set score: 0.2761 Test set score: 0.3367\t\n",
      "Alpha value: 2.3283064365386963e-10\n",
      "Number of features used: 11 Training set score: 0.2761 Test set score: 0.3367\t\n",
      "Alpha value: 1.1641532182693481e-10\n",
      "Number of features used: 11 Training set score: 0.2761 Test set score: 0.3367\t\n",
      "Alpha value: 5.820766091346741e-11\n",
      "Number of features used: 11 Training set score: 0.2761 Test set score: 0.3367\t\n",
      "Alpha value: 2.9103830456733704e-11\n",
      "Number of features used: 11 Training set score: 0.2761 Test set score: 0.3367\t\n",
      "Alpha value: 1.4551915228366852e-11\n",
      "Number of features used: 11 Training set score: 0.2761 Test set score: 0.3367\t\n",
      "Alpha value: 7.275957614183426e-12\n",
      "Number of features used: 11 Training set score: 0.2761 Test set score: 0.3367\t\n",
      "Alpha value: 3.637978807091713e-12\n",
      "Number of features used: 11 Training set score: 0.2761 Test set score: 0.3367\t\n",
      "Alpha value: 1.8189894035458565e-12\n",
      "Number of features used: 11 Training set score: 0.2761 Test set score: 0.3367\t\n",
      "Alpha value: 9.094947017729282e-13\n",
      "Number of features used: 11 Training set score: 0.2761 Test set score: 0.3367\t\n",
      "Alpha value: 4.547473508864641e-13\n",
      "Number of features used: 11 Training set score: 0.2761 Test set score: 0.3367\t\n",
      "Alpha value: 2.2737367544323206e-13\n",
      "Number of features used: 11 Training set score: 0.2761 Test set score: 0.3367\t\n",
      "Alpha value: 1.1368683772161603e-13\n",
      "Number of features used: 11 Training set score: 0.2761 Test set score: 0.3367\t\n",
      "Alpha value: 5.684341886080802e-14\n",
      "Number of features used: 11 Training set score: 0.2761 Test set score: 0.3367\t\n",
      "Alpha value: 2.842170943040401e-14\n",
      "Number of features used: 11 Training set score: 0.2761 Test set score: 0.3367\t\n",
      "Alpha value: 1.4210854715202004e-14\n",
      "Number of features used: 11 Training set score: 0.2761 Test set score: 0.3367\t\n",
      "Alpha value: 7.105427357601002e-15\n",
      "Number of features used: 11 Training set score: 0.2761 Test set score: 0.3367\t\n",
      "Alpha value: 3.552713678800501e-15\n",
      "Number of features used: 11 Training set score: 0.2761 Test set score: 0.3367\t\n",
      "Alpha value: 1.7763568394002505e-15\n",
      "Number of features used: 11 Training set score: 0.2761 Test set score: 0.3367\t\n",
      "Alpha value: 8.881784197001252e-16\n",
      "Number of features used: 11 Training set score: 0.2761 Test set score: 0.3367\t\n"
     ]
    }
   ],
   "source": [
    "# Conduct Lasso\n",
    "alpha_val = 1\n",
    "\n",
    "alpha_values = list()\n",
    "test_values = list()\n",
    "train_values = list()\n",
    "\n",
    "for _ in range(50):\n",
    "    alpha_val /= 2\n",
    "    lasso = Lasso(alpha=alpha_val, max_iter=100000).fit(x_train, y_train)\n",
    "    print(f'Alpha value: {alpha_val}')\n",
    "    print(f'Number of features used: {np.sum(lasso.coef_ !=0)}',\\\n",
    "          f'Training set score: {lasso.score(x_train, y_train):.4f}',\\\n",
    "          f'Test set score: {lasso.score(x_test, y_test):.4f}', end='\\t')\n",
    "    print(\"\")\n",
    "    alpha_values.append(alpha_val)\n",
    "    test_values.append(lasso.score(x_test, y_test))\n",
    "    train_values.append(lasso.score(x_train, y_train))"
   ]
  },
  {
   "cell_type": "code",
   "execution_count": 4,
   "id": "576ac3c5",
   "metadata": {},
   "outputs": [
    {
     "data": {
      "text/plain": [
       "11"
      ]
     },
     "execution_count": 4,
     "metadata": {},
     "output_type": "execute_result"
    }
   ],
   "source": [
    "np.sum(lasso.coef_ !=0)"
   ]
  },
  {
   "cell_type": "code",
   "execution_count": 5,
   "id": "91376d48",
   "metadata": {
    "scrolled": false
   },
   "outputs": [
    {
     "data": {
      "image/png": "[encoded data removed]",
      "text/plain": [
       "<Figure size 432x288 with 1 Axes>"
      ]
     },
     "metadata": {
      "needs_background": "light"
     },
     "output_type": "display_data"
    }
   ],
   "source": [
    "import matplotlib.pyplot as plt\n",
    "plt.plot(alpha_values, test_values, label=\"Test\")\n",
    "plt.plot(alpha_values, train_values, label=\"Train\")\n",
    "plt.title('LASSO with Varying Alpha Values')\n",
    "plt.ylabel('Score')\n",
    "plt.xlabel('Alpha')\n",
    "plt.legend()\n",
    "fig1 = plt.gcf()\n",
    "plt.show()\n",
    "fig1.savefig('LASSOfig.jpg')"
   ]
  },
  {
   "cell_type": "code",
   "execution_count": 8,
   "id": "c4d67910",
   "metadata": {},
   "outputs": [
    {
     "data": {
      "text/plain": [
       "'Underfitting as alpha increases, similar to Ridge'"
      ]
     },
     "execution_count": 8,
     "metadata": {},
     "output_type": "execute_result"
    }
   ],
   "source": [
    "\"\"\"Underfitting as alpha increases, similar to Ridge\"\"\""
   ]
  }
 ],
 "metadata": {
  "kernelspec": {
   "display_name": "Python 3 (ipykernel)",
   "language": "python",
   "name": "python3"
  },
  "language_info": {
   "codemirror_mode": {
    "name": "ipython",
    "version": 3
   },
   "file_extension": ".py",
   "mimetype": "text/x-python",
   "name": "python",
   "nbconvert_exporter": "python",
   "pygments_lexer": "ipython3",
   "version": "3.9.7"
  }
 },
 "nbformat": 4,
 "nbformat_minor": 5
}
