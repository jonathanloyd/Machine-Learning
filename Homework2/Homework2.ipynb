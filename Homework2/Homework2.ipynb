{
 "cells": [
  {
   "cell_type": "code",
   "execution_count": null,
   "id": "0f293b10",
   "metadata": {},
   "outputs": [],
   "source": [
    "#Author: Jonathan Loyd\n",
    "#Description: Python3 Using KFold, KNN, LR, and LSVC on Spam Data\n",
    "#CSE590-12 Project 2"
   ]
  },
  {
   "cell_type": "code",
   "execution_count": 1,
   "id": "6e4ae21d",
   "metadata": {},
   "outputs": [],
   "source": [
    "import pandas as pd\n",
    "import numpy as np\n",
    "from sklearn.model_selection import KFold\n",
    "from sklearn.neighbors import KNeighborsClassifier\n",
    "from sklearn.linear_model import LogisticRegression\n",
    "from sklearn.svm import LinearSVC\n",
    "from sklearn import svm\n",
    "import matplotlib.pyplot as plt\n",
    "from sklearn.metrics import confusion_matrix"
   ]
  },
  {
   "cell_type": "code",
   "execution_count": 2,
   "id": "cc7287b2",
   "metadata": {},
   "outputs": [],
   "source": [
    "# Get training and Testing data\n",
    "train_set = pd.read_csv(\"spam_train.csv\")\n",
    "test_set = pd.read_csv(\"spam_test.csv\")\n",
    "\n",
    "X = np.array(train_set[list(train_set.columns[1:-1])])\n",
    "Y = np.array(train_set[\"class\"])"
   ]
  },
  {
   "cell_type": "code",
   "execution_count": 3,
   "id": "192229d1",
   "metadata": {},
   "outputs": [],
   "source": [
    "# Create 5 Fold\n",
    "folds = 5\n",
    "cv = KFold(n_splits=folds)"
   ]
  },
  {
   "cell_type": "code",
   "execution_count": 4,
   "id": "3b7128b7",
   "metadata": {},
   "outputs": [
    {
     "name": "stdout",
     "output_type": "stream",
     "text": [
      "Processing Fold # 1\n",
      "  - Training score =  1.0\n",
      "  - Testing score =  0.782608695652174\n",
      "Processing Fold # 2\n",
      "  - Training score =  0.9996376811594203\n",
      "  - Testing score =  0.782608695652174\n",
      "Processing Fold # 3\n",
      "  - Training score =  0.9996376811594203\n",
      "  - Testing score =  0.863768115942029\n",
      "Processing Fold # 4\n",
      "  - Training score =  0.9996376811594203\n",
      "  - Testing score =  0.8115942028985508\n",
      "Processing Fold # 5\n",
      "  - Training score =  1.0\n",
      "  - Testing score =  0.8130434782608695\n",
      "TrainScore: 0.9997826086956522\n",
      "TestScore: 0.8107246376811595\n",
      "Processing Fold # 1\n",
      "  - Training score =  0.9068840579710145\n",
      "  - Testing score =  0.7797101449275362\n",
      "Processing Fold # 2\n",
      "  - Training score =  0.9068840579710145\n",
      "  - Testing score =  0.7884057971014493\n",
      "Processing Fold # 3\n",
      "  - Training score =  0.8913043478260869\n",
      "  - Testing score =  0.8101449275362319\n",
      "Processing Fold # 4\n",
      "  - Training score =  0.9036231884057971\n",
      "  - Testing score =  0.7681159420289855\n",
      "Processing Fold # 5\n",
      "  - Training score =  0.9021739130434783\n",
      "  - Testing score =  0.7695652173913043\n",
      "TrainScore: 0.9021739130434783\n",
      "TestScore: 0.7831884057971015\n",
      "Processing Fold # 1\n",
      "  - Training score =  0.8967391304347826\n",
      "  - Testing score =  0.7913043478260869\n",
      "Processing Fold # 2\n",
      "  - Training score =  0.894927536231884\n",
      "  - Testing score =  0.7695652173913043\n",
      "Processing Fold # 3\n",
      "  - Training score =  0.8847826086956522\n",
      "  - Testing score =  0.8376811594202899\n",
      "Processing Fold # 4\n",
      "  - Training score =  0.8934782608695652\n",
      "  - Testing score =  0.7898550724637681\n",
      "Processing Fold # 5\n",
      "  - Training score =  0.8931159420289855\n",
      "  - Testing score =  0.8043478260869565\n",
      "TrainScore: 0.8926086956521738\n",
      "TestScore: 0.7985507246376812\n",
      "Processing Fold # 1\n",
      "  - Training score =  0.8713768115942029\n",
      "  - Testing score =  0.8043478260869565\n",
      "Processing Fold # 2\n",
      "  - Training score =  0.8677536231884058\n",
      "  - Testing score =  0.7739130434782608\n",
      "Processing Fold # 3\n",
      "  - Training score =  0.8554347826086957\n",
      "  - Testing score =  0.7884057971014493\n",
      "Processing Fold # 4\n",
      "  - Training score =  0.8601449275362318\n",
      "  - Testing score =  0.7840579710144927\n",
      "Processing Fold # 5\n",
      "  - Training score =  0.8652173913043478\n",
      "  - Testing score =  0.7840579710144927\n",
      "TrainScore: 0.8639855072463767\n",
      "TestScore: 0.7869565217391303\n",
      "Processing Fold # 1\n",
      "  - Training score =  0.8659420289855072\n",
      "  - Testing score =  0.7956521739130434\n",
      "Processing Fold # 2\n",
      "  - Training score =  0.8724637681159421\n",
      "  - Testing score =  0.7971014492753623\n",
      "Processing Fold # 3\n",
      "  - Training score =  0.8597826086956522\n",
      "  - Testing score =  0.8159420289855073\n",
      "Processing Fold # 4\n",
      "  - Training score =  0.861231884057971\n",
      "  - Testing score =  0.7869565217391304\n",
      "Processing Fold # 5\n",
      "  - Training score =  0.8623188405797102\n",
      "  - Testing score =  0.8057971014492754\n",
      "TrainScore: 0.8643478260869564\n",
      "TestScore: 0.8002898550724638\n",
      "Processing Fold # 1\n",
      "  - Training score =  0.8485507246376811\n",
      "  - Testing score =  0.7898550724637681\n",
      "Processing Fold # 2\n",
      "  - Training score =  0.8492753623188406\n",
      "  - Testing score =  0.7797101449275362\n",
      "Processing Fold # 3\n",
      "  - Training score =  0.8369565217391305\n",
      "  - Testing score =  0.7971014492753623\n",
      "Processing Fold # 4\n",
      "  - Training score =  0.8384057971014492\n",
      "  - Testing score =  0.7724637681159421\n",
      "Processing Fold # 5\n",
      "  - Training score =  0.8452898550724638\n",
      "  - Testing score =  0.7884057971014493\n",
      "TrainScore: 0.8436956521739131\n",
      "TestScore: 0.7855072463768116\n",
      "Processing Fold # 1\n",
      "  - Training score =  0.8485507246376811\n",
      "  - Testing score =  0.7869565217391304\n",
      "Processing Fold # 2\n",
      "  - Training score =  0.8449275362318841\n",
      "  - Testing score =  0.782608695652174\n",
      "Processing Fold # 3\n",
      "  - Training score =  0.8373188405797102\n",
      "  - Testing score =  0.808695652173913\n",
      "Processing Fold # 4\n",
      "  - Training score =  0.8402173913043478\n",
      "  - Testing score =  0.7768115942028986\n",
      "Processing Fold # 5\n",
      "  - Training score =  0.8387681159420289\n",
      "  - Testing score =  0.8043478260869565\n",
      "TrainScore: 0.8419565217391305\n",
      "TestScore: 0.7918840579710145\n",
      "Processing Fold # 1\n",
      "  - Training score =  0.8318840579710145\n",
      "  - Testing score =  0.7971014492753623\n",
      "Processing Fold # 2\n",
      "  - Training score =  0.8315217391304348\n",
      "  - Testing score =  0.7710144927536232\n",
      "Processing Fold # 3\n",
      "  - Training score =  0.8264492753623188\n",
      "  - Testing score =  0.8028985507246377\n",
      "Processing Fold # 4\n",
      "  - Training score =  0.8304347826086956\n",
      "  - Testing score =  0.7565217391304347\n",
      "Processing Fold # 5\n",
      "  - Training score =  0.8300724637681159\n",
      "  - Testing score =  0.7927536231884058\n",
      "TrainScore: 0.830072463768116\n",
      "TestScore: 0.7840579710144928\n",
      "Processing Fold # 1\n",
      "  - Training score =  0.8300724637681159\n",
      "  - Testing score =  0.7724637681159421\n",
      "Processing Fold # 2\n",
      "  - Training score =  0.8358695652173913\n",
      "  - Testing score =  0.7797101449275362\n",
      "Processing Fold # 3\n",
      "  - Training score =  0.8202898550724638\n",
      "  - Testing score =  0.7971014492753623\n",
      "Processing Fold # 4\n",
      "  - Training score =  0.8289855072463768\n",
      "  - Testing score =  0.7652173913043478\n",
      "Processing Fold # 5\n",
      "  - Training score =  0.8282608695652174\n",
      "  - Testing score =  0.808695652173913\n",
      "TrainScore: 0.828695652173913\n",
      "TestScore: 0.7846376811594202\n",
      "Processing Fold # 1\n",
      "  - Training score =  0.8231884057971014\n",
      "  - Testing score =  0.7753623188405797\n",
      "Processing Fold # 2\n",
      "  - Training score =  0.8239130434782609\n",
      "  - Testing score =  0.7652173913043478\n",
      "Processing Fold # 3\n",
      "  - Training score =  0.8123188405797102\n",
      "  - Testing score =  0.7913043478260869\n",
      "Processing Fold # 4\n",
      "  - Training score =  0.8231884057971014\n",
      "  - Testing score =  0.7666666666666667\n",
      "Processing Fold # 5\n",
      "  - Training score =  0.8181159420289855\n",
      "  - Testing score =  0.7971014492753623\n",
      "TrainScore: 0.8201449275362318\n",
      "TestScore: 0.7791304347826087\n",
      "Processing Fold # 1\n",
      "  - Training score =  0.821376811594203\n",
      "  - Testing score =  0.7739130434782608\n",
      "Processing Fold # 2\n",
      "  - Training score =  0.8242753623188406\n",
      "  - Testing score =  0.7768115942028986\n",
      "Processing Fold # 3\n",
      "  - Training score =  0.816304347826087\n",
      "  - Testing score =  0.7971014492753623\n",
      "Processing Fold # 4\n",
      "  - Training score =  0.8239130434782609\n",
      "  - Testing score =  0.7565217391304347\n",
      "Processing Fold # 5\n",
      "  - Training score =  0.8184782608695652\n",
      "  - Testing score =  0.7942028985507247\n",
      "TrainScore: 0.8208695652173914\n",
      "TestScore: 0.7797101449275362\n",
      "Processing Fold # 1\n",
      "  - Training score =  0.816304347826087\n",
      "  - Testing score =  0.7652173913043478\n",
      "Processing Fold # 2\n",
      "  - Training score =  0.8126811594202898\n",
      "  - Testing score =  0.7536231884057971\n",
      "Processing Fold # 3\n",
      "  - Training score =  0.8097826086956522\n",
      "  - Testing score =  0.8\n",
      "Processing Fold # 4\n",
      "  - Training score =  0.8141304347826087\n",
      "  - Testing score =  0.7565217391304347\n",
      "Processing Fold # 5\n",
      "  - Training score =  0.8097826086956522\n",
      "  - Testing score =  0.7898550724637681\n",
      "TrainScore: 0.812536231884058\n",
      "TestScore: 0.7730434782608696\n",
      "Processing Fold # 1\n",
      "  - Training score =  0.8152173913043478\n",
      "  - Testing score =  0.7768115942028986\n",
      "Processing Fold # 2\n",
      "  - Training score =  0.8119565217391305\n",
      "  - Testing score =  0.7594202898550725\n",
      "Processing Fold # 3\n",
      "  - Training score =  0.8094202898550724\n",
      "  - Testing score =  0.8028985507246377\n",
      "Processing Fold # 4\n",
      "  - Training score =  0.8141304347826087\n",
      "  - Testing score =  0.7623188405797101\n",
      "Processing Fold # 5\n",
      "  - Training score =  0.8134057971014492\n",
      "  - Testing score =  0.7811594202898551\n",
      "TrainScore: 0.8128260869565217\n",
      "TestScore: 0.7765217391304349\n",
      "Processing Fold # 1\n",
      "  - Training score =  0.808695652173913\n",
      "  - Testing score =  0.7855072463768116\n",
      "Processing Fold # 2\n",
      "  - Training score =  0.8090579710144927\n",
      "  - Testing score =  0.7521739130434782\n",
      "Processing Fold # 3\n",
      "  - Training score =  0.802536231884058\n",
      "  - Testing score =  0.7985507246376812\n",
      "Processing Fold # 4\n",
      "  - Training score =  0.8043478260869565\n",
      "  - Testing score =  0.7492753623188406\n",
      "Processing Fold # 5\n",
      "  - Training score =  0.8043478260869565\n",
      "  - Testing score =  0.7739130434782608\n",
      "TrainScore: 0.8057971014492754\n",
      "TestScore: 0.7718840579710144\n",
      "Processing Fold # 1\n",
      "  - Training score =  0.7992753623188406\n",
      "  - Testing score =  0.7739130434782608\n",
      "Processing Fold # 2\n",
      "  - Training score =  0.8083333333333333\n",
      "  - Testing score =  0.7565217391304347\n",
      "Processing Fold # 3\n",
      "  - Training score =  0.802536231884058\n",
      "  - Testing score =  0.7913043478260869\n",
      "Processing Fold # 4\n",
      "  - Training score =  0.8047101449275362\n"
     ]
    },
    {
     "name": "stdout",
     "output_type": "stream",
     "text": [
      "  - Testing score =  0.7507246376811594\n",
      "Processing Fold # 5\n",
      "  - Training score =  0.803623188405797\n",
      "  - Testing score =  0.7739130434782608\n",
      "TrainScore: 0.803695652173913\n",
      "TestScore: 0.7692753623188405\n",
      "Processing Fold # 1\n",
      "  - Training score =  0.7978260869565217\n",
      "  - Testing score =  0.7797101449275362\n",
      "Processing Fold # 2\n",
      "  - Training score =  0.803623188405797\n",
      "  - Testing score =  0.7565217391304347\n",
      "Processing Fold # 3\n",
      "  - Training score =  0.7931159420289855\n",
      "  - Testing score =  0.7884057971014493\n",
      "Processing Fold # 4\n",
      "  - Training score =  0.7967391304347826\n",
      "  - Testing score =  0.7434782608695653\n",
      "Processing Fold # 5\n",
      "  - Training score =  0.7909420289855073\n",
      "  - Testing score =  0.7797101449275362\n",
      "TrainScore: 0.7964492753623188\n",
      "TestScore: 0.7695652173913043\n",
      "Processing Fold # 1\n",
      "  - Training score =  0.797463768115942\n",
      "  - Testing score =  0.7666666666666667\n",
      "Processing Fold # 2\n",
      "  - Training score =  0.8068840579710145\n",
      "  - Testing score =  0.763768115942029\n",
      "Processing Fold # 3\n",
      "  - Training score =  0.7942028985507247\n",
      "  - Testing score =  0.782608695652174\n",
      "Processing Fold # 4\n",
      "  - Training score =  0.7985507246376812\n",
      "  - Testing score =  0.7420289855072464\n",
      "Processing Fold # 5\n",
      "  - Training score =  0.7876811594202898\n",
      "  - Testing score =  0.7739130434782608\n",
      "TrainScore: 0.7969565217391305\n",
      "TestScore: 0.7657971014492754\n",
      "Processing Fold # 1\n",
      "  - Training score =  0.7938405797101449\n",
      "  - Testing score =  0.7681159420289855\n",
      "Processing Fold # 2\n",
      "  - Training score =  0.797463768115942\n",
      "  - Testing score =  0.7492753623188406\n",
      "Processing Fold # 3\n",
      "  - Training score =  0.7815217391304348\n",
      "  - Testing score =  0.7739130434782608\n",
      "Processing Fold # 4\n",
      "  - Training score =  0.7927536231884058\n",
      "  - Testing score =  0.7289855072463768\n",
      "Processing Fold # 5\n",
      "  - Training score =  0.783695652173913\n",
      "  - Testing score =  0.7782608695652173\n",
      "TrainScore: 0.7898550724637682\n",
      "TestScore: 0.7597101449275362\n",
      "Processing Fold # 1\n",
      "  - Training score =  0.7923913043478261\n",
      "  - Testing score =  0.7608695652173914\n",
      "Processing Fold # 2\n",
      "  - Training score =  0.7978260869565217\n",
      "  - Testing score =  0.7594202898550725\n",
      "Processing Fold # 3\n",
      "  - Training score =  0.7807971014492754\n",
      "  - Testing score =  0.782608695652174\n",
      "Processing Fold # 4\n",
      "  - Training score =  0.7971014492753623\n",
      "  - Testing score =  0.7333333333333333\n",
      "Processing Fold # 5\n",
      "  - Training score =  0.7811594202898551\n",
      "  - Testing score =  0.782608695652174\n",
      "TrainScore: 0.7898550724637682\n",
      "TestScore: 0.763768115942029\n",
      "Processing Fold # 1\n",
      "  - Training score =  0.7873188405797101\n",
      "  - Testing score =  0.7623188405797101\n",
      "Processing Fold # 2\n",
      "  - Training score =  0.7952898550724637\n",
      "  - Testing score =  0.7521739130434782\n",
      "Processing Fold # 3\n",
      "  - Training score =  0.7793478260869565\n",
      "  - Testing score =  0.7608695652173914\n",
      "Processing Fold # 4\n",
      "  - Training score =  0.7833333333333333\n",
      "  - Testing score =  0.7202898550724638\n",
      "Processing Fold # 5\n",
      "  - Training score =  0.7811594202898551\n",
      "  - Testing score =  0.7811594202898551\n",
      "TrainScore: 0.7852898550724637\n",
      "TestScore: 0.7553623188405798\n"
     ]
    }
   ],
   "source": [
    "# Conduct KNN w/ KFold\n",
    "train_scores = list() \n",
    "test_scores = list()\n",
    "for K in range(0, 20):\n",
    "    K = K+1\n",
    "    CLF = KNeighborsClassifier(n_neighbors=K)\n",
    "    i = 1\n",
    "    train_score = 0\n",
    "    test_score = 0\n",
    "\n",
    "    for train_index, test_index in cv.split(X):\n",
    "        X_train, X_test, Y_train, Y_test = X[train_index], X[test_index], Y[train_index], Y[test_index]\n",
    "        CLF.fit(X_train, Y_train)\n",
    "        \n",
    "        print('Processing Fold #', i)\n",
    "        print(\"  - Training score = \", CLF.score(X_train, Y_train))\n",
    "        print(\"  - Testing score = \", CLF.score(X_test, Y_test))\n",
    "        train_score += CLF.score(X_train, Y_train)\n",
    "        test_score += CLF.score(X_test, Y_test)\n",
    "\n",
    "        i += 1\n",
    "    train_score /= folds\n",
    "    test_score /= folds\n",
    "    print(f'TrainScore: {train_score}\\nTestScore: {test_score}')\n",
    "    train_scores.append(train_score)\n",
    "    test_scores.append(test_score)"
   ]
  },
  {
   "cell_type": "code",
   "execution_count": 5,
   "id": "4e2fa356",
   "metadata": {},
   "outputs": [
    {
     "data": {
      "image/png": "[encoded data removed]",
      "text/plain": [
       "<Figure size 432x288 with 1 Axes>"
      ]
     },
     "metadata": {
      "needs_background": "light"
     },
     "output_type": "display_data"
    }
   ],
   "source": [
    "k_list = list(range(1, 21))\n",
    "plt.plot(k_list, test_scores, label=\"Validation\")\n",
    "plt.plot(k_list, train_scores, label=\"Train\")\n",
    "plt.title('KNN Classifier Validation Varying K Values')\n",
    "plt.ylabel('Score')\n",
    "plt.xlabel('K')\n",
    "plt.legend()\n",
    "fig1 = plt.gcf()\n",
    "plt.show()\n",
    "fig1.savefig('KNNfig.jpg')"
   ]
  },
  {
   "cell_type": "code",
   "execution_count": 6,
   "id": "3ccd2e05",
   "metadata": {},
   "outputs": [
    {
     "name": "stdout",
     "output_type": "stream",
     "text": [
      "0.8107246376811595 (array([0], dtype=int64),) This is at k=1\n"
     ]
    }
   ],
   "source": [
    "print(np.max(test_scores), np.where(np.isclose(test_scores, np.max(test_scores))), \"This is at k=1\")"
   ]
  },
  {
   "cell_type": "code",
   "execution_count": 7,
   "id": "bb559b24",
   "metadata": {},
   "outputs": [
    {
     "name": "stdout",
     "output_type": "stream",
     "text": [
      "Testing Data for K = 1\n",
      "Training score =  0.9997101449275362\n",
      "Testing score =  0.8027801911381407\n",
      "[[571 103]\n",
      " [124 353]]\n"
     ]
    }
   ],
   "source": [
    "# Rest Training and testing data \n",
    "X_train = np.array(train_set[list(train_set.columns[1:-1])])\n",
    "Y_train = np.array(train_set[\"class\"])\n",
    "X_test = np.array(test_set[list(train_set.columns[1:-1])])\n",
    "Y_test = np.array(test_set[\"class\"])\n",
    "\n",
    "# Conduct Best KNN\n",
    "CLF = KNeighborsClassifier(n_neighbors=1)\n",
    "CLF.fit(X_train, Y_train)\n",
    "print(\"Testing Data for K = 1\")\n",
    "print(\"Training score = \", CLF.score(X_train, Y_train))\n",
    "print(\"Testing score = \", CLF.score(X_test, Y_test))\n",
    "\n",
    "cf = confusion_matrix(Y_test, CLF.predict(X_test))\n",
    "print(cf)"
   ]
  },
  {
   "cell_type": "code",
   "execution_count": 8,
   "id": "3e468f8d",
   "metadata": {
    "scrolled": true
   },
   "outputs": [
    {
     "data": {
      "text/plain": [
       "array([0.01      , 0.01668101, 0.02782559, 0.04641589, 0.07742637,\n",
       "       0.12915497, 0.21544347, 0.35938137, 0.59948425, 1.        ])"
      ]
     },
     "execution_count": 8,
     "metadata": {},
     "output_type": "execute_result"
    }
   ],
   "source": [
    "# Use logspace to create a range of C values\n",
    "c_vals = np.logspace(-2, 0, num=10)\n",
    "c_vals"
   ]
  },
  {
   "cell_type": "code",
   "execution_count": 9,
   "id": "2ed93b42",
   "metadata": {
    "scrolled": true
   },
   "outputs": [
    {
     "name": "stdout",
     "output_type": "stream",
     "text": [
      "Processing Fold # 1\n",
      "  - Training score =  0.8445652173913043\n",
      "  - Testing score =  0.8478260869565217\n",
      "Processing Fold # 2\n",
      "  - Training score =  0.8518115942028985\n",
      "  - Testing score =  0.8391304347826087\n",
      "Processing Fold # 3\n",
      "  - Training score =  0.8394927536231884\n",
      "  - Testing score =  0.8492753623188406\n",
      "Processing Fold # 4\n",
      "  - Training score =  0.8405797101449275\n",
      "  - Testing score =  0.827536231884058\n",
      "Processing Fold # 5\n",
      "  - Training score =  0.8496376811594203\n",
      "  - Testing score =  0.8594202898550725\n",
      "TrainScore: 0.8452173913043477\n",
      "TestScore: 0.8446376811594203\n",
      "Processing Fold # 1\n",
      "  - Training score =  0.8833333333333333\n",
      "  - Testing score =  0.8855072463768116\n",
      "Processing Fold # 2\n",
      "  - Training score =  0.8855072463768116\n",
      "  - Testing score =  0.8710144927536232\n",
      "Processing Fold # 3\n",
      "  - Training score =  0.8789855072463768\n",
      "  - Testing score =  0.8884057971014493\n",
      "Processing Fold # 4\n",
      "  - Training score =  0.8793478260869565\n",
      "  - Testing score =  0.8695652173913043\n",
      "Processing Fold # 5\n",
      "  - Training score =  0.8851449275362319\n",
      "  - Testing score =  0.8985507246376812\n",
      "TrainScore: 0.882463768115942\n",
      "TestScore: 0.8826086956521738\n",
      "Processing Fold # 1\n",
      "  - Training score =  0.902536231884058\n",
      "  - Testing score =  0.9028985507246376\n",
      "Processing Fold # 2\n",
      "  - Training score =  0.9032608695652173\n",
      "  - Testing score =  0.8884057971014493\n",
      "Processing Fold # 3\n",
      "  - Training score =  0.9003623188405797\n",
      "  - Testing score =  0.908695652173913\n",
      "Processing Fold # 4\n",
      "  - Training score =  0.8963768115942029\n",
      "  - Testing score =  0.8869565217391304\n",
      "Processing Fold # 5\n",
      "  - Training score =  0.9057971014492754\n",
      "  - Testing score =  0.9057971014492754\n",
      "TrainScore: 0.9016666666666666\n",
      "TestScore: 0.898550724637681\n",
      "Processing Fold # 1\n",
      "  - Training score =  0.913768115942029\n",
      "  - Testing score =  0.9115942028985508\n",
      "Processing Fold # 2\n",
      "  - Training score =  0.9184782608695652\n",
      "  - Testing score =  0.9014492753623189\n",
      "Processing Fold # 3\n",
      "  - Training score =  0.9105072463768116\n",
      "  - Testing score =  0.9202898550724637\n",
      "Processing Fold # 4\n",
      "  - Training score =  0.9130434782608695\n",
      "  - Testing score =  0.9043478260869565\n",
      "Processing Fold # 5\n",
      "  - Training score =  0.9217391304347826\n",
      "  - Testing score =  0.9130434782608695\n",
      "TrainScore: 0.9155072463768116\n",
      "TestScore: 0.9101449275362319\n",
      "Processing Fold # 1\n",
      "  - Training score =  0.9242753623188406\n",
      "  - Testing score =  0.9202898550724637\n",
      "Processing Fold # 2\n",
      "  - Training score =  0.9271739130434783\n",
      "  - Testing score =  0.9057971014492754\n",
      "Processing Fold # 3\n",
      "  - Training score =  0.9188405797101449\n",
      "  - Testing score =  0.9391304347826087\n",
      "Processing Fold # 4\n",
      "  - Training score =  0.9166666666666666\n",
      "  - Testing score =  0.9144927536231884\n",
      "Processing Fold # 5\n",
      "  - Training score =  0.9278985507246377\n",
      "  - Testing score =  0.9159420289855073\n",
      "TrainScore: 0.9229710144927535\n",
      "TestScore: 0.9191304347826087\n",
      "Processing Fold # 1\n",
      "  - Training score =  0.9293478260869565\n",
      "  - Testing score =  0.9217391304347826\n",
      "Processing Fold # 2\n",
      "  - Training score =  0.9322463768115942\n",
      "  - Testing score =  0.908695652173913\n",
      "Processing Fold # 3\n",
      "  - Training score =  0.9188405797101449\n",
      "  - Testing score =  0.9405797101449276\n",
      "Processing Fold # 4\n",
      "  - Training score =  0.9202898550724637\n",
      "  - Testing score =  0.9217391304347826\n",
      "Processing Fold # 5\n",
      "  - Training score =  0.9333333333333333\n",
      "  - Testing score =  0.9231884057971015\n",
      "TrainScore: 0.9268115942028986\n",
      "TestScore: 0.9231884057971014\n",
      "Processing Fold # 1\n",
      "  - Training score =  0.9318840579710145\n",
      "  - Testing score =  0.9144927536231884\n",
      "Processing Fold # 2\n",
      "  - Training score =  0.9369565217391305\n",
      "  - Testing score =  0.9144927536231884\n",
      "Processing Fold # 3\n",
      "  - Training score =  0.9221014492753623\n",
      "  - Testing score =  0.9420289855072463\n",
      "Processing Fold # 4\n",
      "  - Training score =  0.9268115942028986\n",
      "  - Testing score =  0.9289855072463769\n",
      "Processing Fold # 5\n",
      "  - Training score =  0.9351449275362319\n",
      "  - Testing score =  0.9231884057971015\n",
      "TrainScore: 0.9305797101449276\n",
      "TestScore: 0.9246376811594204\n",
      "Processing Fold # 1\n",
      "  - Training score =  0.9326086956521739\n",
      "  - Testing score =  0.9188405797101449\n",
      "Processing Fold # 2\n",
      "  - Training score =  0.938768115942029\n",
      "  - Testing score =  0.9144927536231884\n",
      "Processing Fold # 3\n",
      "  - Training score =  0.9271739130434783\n",
      "  - Testing score =  0.9449275362318841\n",
      "Processing Fold # 4\n",
      "  - Training score =  0.9282608695652174\n",
      "  - Testing score =  0.9333333333333333\n",
      "Processing Fold # 5\n",
      "  - Training score =  0.9391304347826087\n",
      "  - Testing score =  0.9289855072463769\n",
      "TrainScore: 0.9331884057971015\n",
      "TestScore: 0.9281159420289857\n",
      "Processing Fold # 1\n",
      "  - Training score =  0.9351449275362319\n",
      "  - Testing score =  0.9217391304347826\n",
      "Processing Fold # 2\n",
      "  - Training score =  0.9402173913043478\n",
      "  - Testing score =  0.9144927536231884\n",
      "Processing Fold # 3\n",
      "  - Training score =  0.928623188405797\n",
      "  - Testing score =  0.9449275362318841\n",
      "Processing Fold # 4\n",
      "  - Training score =  0.9300724637681159\n",
      "  - Testing score =  0.9347826086956522\n",
      "Processing Fold # 5\n",
      "  - Training score =  0.9394927536231884\n",
      "  - Testing score =  0.9289855072463769\n",
      "TrainScore: 0.9347101449275362\n",
      "TestScore: 0.928985507246377\n",
      "Processing Fold # 1\n",
      "  - Training score =  0.9351449275362319\n",
      "  - Testing score =  0.9202898550724637\n",
      "Processing Fold # 2\n",
      "  - Training score =  0.9409420289855073\n",
      "  - Testing score =  0.9159420289855073\n",
      "Processing Fold # 3\n",
      "  - Training score =  0.9297101449275362\n",
      "  - Testing score =  0.9449275362318841\n",
      "Processing Fold # 4\n",
      "  - Training score =  0.9344202898550724\n",
      "  - Testing score =  0.9376811594202898\n",
      "Processing Fold # 5\n",
      "  - Training score =  0.9420289855072463\n",
      "  - Testing score =  0.9304347826086956\n",
      "TrainScore: 0.9364492753623187\n",
      "TestScore: 0.9298550724637682\n"
     ]
    }
   ],
   "source": [
    "# Conduct LR with KFold\n",
    "train_scores = list() \n",
    "test_scores = list()\n",
    "for C in c_vals:\n",
    "    LR = LogisticRegression(max_iter=10000, C=C, penalty='l1', solver='liblinear')\n",
    "    i = 1\n",
    "    train_score = 0\n",
    "    test_score = 0\n",
    "\n",
    "    for train_index, test_index in cv.split(X):\n",
    "        X_train, X_test, Y_train, Y_test = X[train_index], X[test_index], Y[train_index], Y[test_index]\n",
    "        LR.fit(X_train, Y_train)\n",
    "        \n",
    "        print('Processing Fold #', i)\n",
    "        print(\"  - Training score = \", LR.score(X_train, Y_train))\n",
    "        print(\"  - Testing score = \", LR.score(X_test, Y_test))\n",
    "        train_score += LR.score(X_train, Y_train)\n",
    "        test_score += LR.score(X_test, Y_test)\n",
    "\n",
    "        i += 1\n",
    "    train_score /= folds\n",
    "    test_score /= folds\n",
    "    print(f'TrainScore: {train_score}\\nTestScore: {test_score}')\n",
    "    train_scores.append(train_score)\n",
    "    test_scores.append(test_score)"
   ]
  },
  {
   "cell_type": "code",
   "execution_count": 10,
   "id": "d480e229",
   "metadata": {},
   "outputs": [
    {
     "name": "stdout",
     "output_type": "stream",
     "text": [
      "[0.8446376811594203, 0.8826086956521738, 0.898550724637681, 0.9101449275362319, 0.9191304347826087, 0.9231884057971014, 0.9246376811594204, 0.9281159420289857, 0.928985507246377, 0.9298550724637682]\n"
     ]
    },
    {
     "data": {
      "image/png": "[encoded data removed]",
      "text/plain": [
       "<Figure size 432x288 with 1 Axes>"
      ]
     },
     "metadata": {
      "needs_background": "light"
     },
     "output_type": "display_data"
    }
   ],
   "source": [
    "print(test_scores)\n",
    "plt.plot(c_vals, test_scores, label=\"Validation\")\n",
    "plt.plot(c_vals, train_scores, label=\"Train\")\n",
    "plt.title('Logistic Regression Validation Varying C Values')\n",
    "plt.ylabel('Score')\n",
    "plt.xlabel('C')\n",
    "plt.legend()\n",
    "fig1 = plt.gcf()\n",
    "plt.show()\n",
    "fig1.savefig('LRfig.jpg')"
   ]
  },
  {
   "cell_type": "markdown",
   "id": "63d58819",
   "metadata": {},
   "source": [
    "Logistic Regression graph looks to have underfitting as C decreases to 1 or less."
   ]
  },
  {
   "cell_type": "markdown",
   "id": "5cc46020",
   "metadata": {},
   "source": [
    "\"The relationship, would be that lowering C - would strengthen the Lambda regulator.\""
   ]
  },
  {
   "cell_type": "code",
   "execution_count": 11,
   "id": "ecc6e7d7",
   "metadata": {},
   "outputs": [
    {
     "name": "stdout",
     "output_type": "stream",
     "text": [
      "0.9298550724637682 (array([9], dtype=int64),)\n",
      "C_value:  0.5994842503189409\n",
      "0.9298550724637682\n",
      "0.9364492753623187\n"
     ]
    }
   ],
   "source": [
    "print(np.max(test_scores), np.where(np.isclose(test_scores, np.max(test_scores))))\n",
    "print(\"C_value: \", c_vals[8])\n",
    "print(test_scores[9])\n",
    "print(train_scores[9])"
   ]
  },
  {
   "cell_type": "code",
   "execution_count": 12,
   "id": "1dde2890",
   "metadata": {},
   "outputs": [
    {
     "name": "stdout",
     "output_type": "stream",
     "text": [
      "Testing Data for C = 1\n",
      "Training score =  0.9350724637681159\n",
      "Testing score =  0.9226759339704604\n",
      "[[637  37]\n",
      " [ 52 425]]\n"
     ]
    }
   ],
   "source": [
    "# Reset Train and Test data\n",
    "X_train = np.array(train_set[list(train_set.columns[1:-1])])\n",
    "Y_train = np.array(train_set[\"class\"])\n",
    "X_test = np.array(test_set[list(train_set.columns[1:-1])])\n",
    "Y_test = np.array(test_set[\"class\"])\n",
    "\n",
    "# Conduct Best LR\n",
    "CLF = LogisticRegression(max_iter=10000, C=1, penalty='l1', solver='liblinear')\n",
    "CLF.fit(X_train, Y_train)\n",
    "print(\"Testing Data for C = 1\")\n",
    "print(\"Training score = \", CLF.score(X_train, Y_train))\n",
    "print(\"Testing score = \", CLF.score(X_test, Y_test))\n",
    "\n",
    "cf = confusion_matrix(Y_test, CLF.predict(X_test))\n",
    "print(cf)"
   ]
  },
  {
   "cell_type": "code",
   "execution_count": 13,
   "id": "030e50be",
   "metadata": {},
   "outputs": [
    {
     "name": "stdout",
     "output_type": "stream",
     "text": [
      "[[-3.58022354e-01 -1.13100680e-01  1.36874963e-01  5.12341257e-01\n",
      "   5.63303715e-01  5.64878633e-01  2.41975415e+00  8.45226727e-01\n",
      "   4.34651418e-01  1.41882875e-01  0.00000000e+00 -1.39723477e-01\n",
      "   0.00000000e+00  9.03459759e-02  4.61055506e-01  8.22380015e-01\n",
      "   7.36797133e-01  2.68947887e-01  6.50155770e-02  5.94114097e-01\n",
      "   2.72391957e-01  2.54941436e-01  2.47927897e+00  8.43993998e-01\n",
      "  -1.40224706e+00 -1.03860636e+00 -5.79172485e+00  2.52311594e-01\n",
      "  -1.54721266e+00 -2.69108730e-01  0.00000000e+00  0.00000000e+00\n",
      "  -6.54240737e-01  0.00000000e+00 -1.25855022e+00  6.34564674e-01\n",
      "   0.00000000e+00 -3.45425557e-01 -7.29846910e-01 -1.86084663e-01\n",
      "  -3.48349423e+00 -1.73783946e+00 -2.88136116e-01 -1.27841230e+00\n",
      "  -6.22555709e-01 -1.35840985e+00 -1.20606861e+00 -1.81932003e+00\n",
      "  -1.07555573e+00 -1.83752314e-01 -2.27955222e-01  1.05734645e+00\n",
      "   4.72999090e+00  1.39256424e+00 -4.18031071e-03  6.53271929e-03\n",
      "   6.03747329e-04]] Index(['word_freq_make', 'word_freq_address', 'word_freq_all', 'word_freq_3d',\n",
      "       'word_freq_our', 'word_freq_over', 'word_freq_remove',\n",
      "       'word_freq_internet', 'word_freq_order', 'word_freq_mail',\n",
      "       'word_freq_receive', 'word_freq_will', 'word_freq_people',\n",
      "       'word_freq_report', 'word_freq_addresses', 'word_freq_free',\n",
      "       'word_freq_business', 'word_freq_email', 'word_freq_you',\n",
      "       'word_freq_credit', 'word_freq_your', 'word_freq_font', 'word_freq_000',\n",
      "       'word_freq_money', 'word_freq_hp', 'word_freq_hpl', 'word_freq_george',\n",
      "       'word_freq_650', 'word_freq_lab', 'word_freq_labs', 'word_freq_telnet',\n",
      "       'word_freq_857', 'word_freq_data', 'word_freq_415', 'word_freq_85',\n",
      "       'word_freq_technology', 'word_freq_1999', 'word_freq_parts',\n",
      "       'word_freq_pm', 'word_freq_direct', 'word_freq_cs', 'word_freq_meeting',\n",
      "       'word_freq_original', 'word_freq_project', 'word_freq_re',\n",
      "       'word_freq_edu', 'word_freq_table', 'word_freq_conference',\n",
      "       'char_freq_%3B', 'char_freq_%28', 'char_freq_%5B', 'char_freq_%21',\n",
      "       'char_freq_%24', 'char_freq_%23', 'capital_run_length_average',\n",
      "       'capital_run_length_longest', 'capital_run_length_total'],\n",
      "      dtype='object')\n"
     ]
    }
   ],
   "source": [
    "print(CLF.coef_, train_set.columns[1:-1])"
   ]
  },
  {
   "cell_type": "code",
   "execution_count": 14,
   "id": "aa966ced",
   "metadata": {},
   "outputs": [
    {
     "data": {
      "text/plain": [
       "array([0.01, 0.02, 0.03, 0.04, 0.05, 0.06, 0.07, 0.08, 0.09, 0.1 ])"
      ]
     },
     "execution_count": 14,
     "metadata": {},
     "output_type": "execute_result"
    }
   ],
   "source": [
    "c_vals = np.linspace(.01, .1, num=10)\n",
    "c_vals"
   ]
  },
  {
   "cell_type": "code",
   "execution_count": 15,
   "id": "b3be8e12",
   "metadata": {
    "scrolled": true
   },
   "outputs": [
    {
     "name": "stderr",
     "output_type": "stream",
     "text": [
      "C:\\Users\\jloyd\\anaconda3\\lib\\site-packages\\sklearn\\svm\\_base.py:1206: ConvergenceWarning: Liblinear failed to converge, increase the number of iterations.\n",
      "  warnings.warn(\n"
     ]
    },
    {
     "name": "stdout",
     "output_type": "stream",
     "text": [
      "Processing Fold # 1\n",
      "  - Training score =  0.925\n",
      "  - Testing score =  0.9217391304347826\n"
     ]
    },
    {
     "name": "stderr",
     "output_type": "stream",
     "text": [
      "C:\\Users\\jloyd\\anaconda3\\lib\\site-packages\\sklearn\\svm\\_base.py:1206: ConvergenceWarning: Liblinear failed to converge, increase the number of iterations.\n",
      "  warnings.warn(\n"
     ]
    },
    {
     "name": "stdout",
     "output_type": "stream",
     "text": [
      "Processing Fold # 2\n",
      "  - Training score =  0.9293478260869565\n",
      "  - Testing score =  0.908695652173913\n"
     ]
    },
    {
     "name": "stderr",
     "output_type": "stream",
     "text": [
      "C:\\Users\\jloyd\\anaconda3\\lib\\site-packages\\sklearn\\svm\\_base.py:1206: ConvergenceWarning: Liblinear failed to converge, increase the number of iterations.\n",
      "  warnings.warn(\n"
     ]
    },
    {
     "name": "stdout",
     "output_type": "stream",
     "text": [
      "Processing Fold # 3\n",
      "  - Training score =  0.9173913043478261\n",
      "  - Testing score =  0.9420289855072463\n"
     ]
    },
    {
     "name": "stderr",
     "output_type": "stream",
     "text": [
      "C:\\Users\\jloyd\\anaconda3\\lib\\site-packages\\sklearn\\svm\\_base.py:1206: ConvergenceWarning: Liblinear failed to converge, increase the number of iterations.\n",
      "  warnings.warn(\n"
     ]
    },
    {
     "name": "stdout",
     "output_type": "stream",
     "text": [
      "Processing Fold # 4\n",
      "  - Training score =  0.928623188405797\n",
      "  - Testing score =  0.9260869565217391\n"
     ]
    },
    {
     "name": "stderr",
     "output_type": "stream",
     "text": [
      "C:\\Users\\jloyd\\anaconda3\\lib\\site-packages\\sklearn\\svm\\_base.py:1206: ConvergenceWarning: Liblinear failed to converge, increase the number of iterations.\n",
      "  warnings.warn(\n"
     ]
    },
    {
     "name": "stdout",
     "output_type": "stream",
     "text": [
      "Processing Fold # 5\n",
      "  - Training score =  0.9304347826086956\n",
      "  - Testing score =  0.9188405797101449\n",
      "TrainScore: 0.926159420289855\n",
      "TestScore: 0.9234782608695651\n"
     ]
    },
    {
     "name": "stderr",
     "output_type": "stream",
     "text": [
      "C:\\Users\\jloyd\\anaconda3\\lib\\site-packages\\sklearn\\svm\\_base.py:1206: ConvergenceWarning: Liblinear failed to converge, increase the number of iterations.\n",
      "  warnings.warn(\n"
     ]
    },
    {
     "name": "stdout",
     "output_type": "stream",
     "text": [
      "Processing Fold # 1\n",
      "  - Training score =  0.9271739130434783\n",
      "  - Testing score =  0.9231884057971015\n"
     ]
    },
    {
     "name": "stderr",
     "output_type": "stream",
     "text": [
      "C:\\Users\\jloyd\\anaconda3\\lib\\site-packages\\sklearn\\svm\\_base.py:1206: ConvergenceWarning: Liblinear failed to converge, increase the number of iterations.\n",
      "  warnings.warn(\n"
     ]
    },
    {
     "name": "stdout",
     "output_type": "stream",
     "text": [
      "Processing Fold # 2\n",
      "  - Training score =  0.9307971014492754\n",
      "  - Testing score =  0.9072463768115943\n"
     ]
    },
    {
     "name": "stderr",
     "output_type": "stream",
     "text": [
      "C:\\Users\\jloyd\\anaconda3\\lib\\site-packages\\sklearn\\svm\\_base.py:1206: ConvergenceWarning: Liblinear failed to converge, increase the number of iterations.\n",
      "  warnings.warn(\n"
     ]
    },
    {
     "name": "stdout",
     "output_type": "stream",
     "text": [
      "Processing Fold # 3\n",
      "  - Training score =  0.9213768115942029\n",
      "  - Testing score =  0.946376811594203\n"
     ]
    },
    {
     "name": "stderr",
     "output_type": "stream",
     "text": [
      "C:\\Users\\jloyd\\anaconda3\\lib\\site-packages\\sklearn\\svm\\_base.py:1206: ConvergenceWarning: Liblinear failed to converge, increase the number of iterations.\n",
      "  warnings.warn(\n"
     ]
    },
    {
     "name": "stdout",
     "output_type": "stream",
     "text": [
      "Processing Fold # 4\n",
      "  - Training score =  0.9282608695652174\n",
      "  - Testing score =  0.9246376811594202\n"
     ]
    },
    {
     "name": "stderr",
     "output_type": "stream",
     "text": [
      "C:\\Users\\jloyd\\anaconda3\\lib\\site-packages\\sklearn\\svm\\_base.py:1206: ConvergenceWarning: Liblinear failed to converge, increase the number of iterations.\n",
      "  warnings.warn(\n"
     ]
    },
    {
     "name": "stdout",
     "output_type": "stream",
     "text": [
      "Processing Fold # 5\n",
      "  - Training score =  0.9326086956521739\n",
      "  - Testing score =  0.9159420289855073\n",
      "TrainScore: 0.9280434782608695\n",
      "TestScore: 0.9234782608695653\n"
     ]
    },
    {
     "name": "stderr",
     "output_type": "stream",
     "text": [
      "C:\\Users\\jloyd\\anaconda3\\lib\\site-packages\\sklearn\\svm\\_base.py:1206: ConvergenceWarning: Liblinear failed to converge, increase the number of iterations.\n",
      "  warnings.warn(\n"
     ]
    },
    {
     "name": "stdout",
     "output_type": "stream",
     "text": [
      "Processing Fold # 1\n",
      "  - Training score =  0.925\n",
      "  - Testing score =  0.9246376811594202\n"
     ]
    },
    {
     "name": "stderr",
     "output_type": "stream",
     "text": [
      "C:\\Users\\jloyd\\anaconda3\\lib\\site-packages\\sklearn\\svm\\_base.py:1206: ConvergenceWarning: Liblinear failed to converge, increase the number of iterations.\n",
      "  warnings.warn(\n"
     ]
    },
    {
     "name": "stdout",
     "output_type": "stream",
     "text": [
      "Processing Fold # 2\n",
      "  - Training score =  0.9326086956521739\n",
      "  - Testing score =  0.908695652173913\n"
     ]
    },
    {
     "name": "stderr",
     "output_type": "stream",
     "text": [
      "C:\\Users\\jloyd\\anaconda3\\lib\\site-packages\\sklearn\\svm\\_base.py:1206: ConvergenceWarning: Liblinear failed to converge, increase the number of iterations.\n",
      "  warnings.warn(\n"
     ]
    },
    {
     "name": "stdout",
     "output_type": "stream",
     "text": [
      "Processing Fold # 3\n",
      "  - Training score =  0.9184782608695652\n",
      "  - Testing score =  0.946376811594203\n"
     ]
    },
    {
     "name": "stderr",
     "output_type": "stream",
     "text": [
      "C:\\Users\\jloyd\\anaconda3\\lib\\site-packages\\sklearn\\svm\\_base.py:1206: ConvergenceWarning: Liblinear failed to converge, increase the number of iterations.\n",
      "  warnings.warn(\n"
     ]
    },
    {
     "name": "stdout",
     "output_type": "stream",
     "text": [
      "Processing Fold # 4\n",
      "  - Training score =  0.928623188405797\n",
      "  - Testing score =  0.9217391304347826\n"
     ]
    },
    {
     "name": "stderr",
     "output_type": "stream",
     "text": [
      "C:\\Users\\jloyd\\anaconda3\\lib\\site-packages\\sklearn\\svm\\_base.py:1206: ConvergenceWarning: Liblinear failed to converge, increase the number of iterations.\n",
      "  warnings.warn(\n"
     ]
    },
    {
     "name": "stdout",
     "output_type": "stream",
     "text": [
      "Processing Fold # 5\n",
      "  - Training score =  0.9351449275362319\n",
      "  - Testing score =  0.9246376811594202\n",
      "TrainScore: 0.9279710144927537\n",
      "TestScore: 0.9252173913043478\n"
     ]
    },
    {
     "name": "stderr",
     "output_type": "stream",
     "text": [
      "C:\\Users\\jloyd\\anaconda3\\lib\\site-packages\\sklearn\\svm\\_base.py:1206: ConvergenceWarning: Liblinear failed to converge, increase the number of iterations.\n",
      "  warnings.warn(\n"
     ]
    },
    {
     "name": "stdout",
     "output_type": "stream",
     "text": [
      "Processing Fold # 1\n",
      "  - Training score =  0.9253623188405797\n",
      "  - Testing score =  0.9231884057971015\n"
     ]
    },
    {
     "name": "stderr",
     "output_type": "stream",
     "text": [
      "C:\\Users\\jloyd\\anaconda3\\lib\\site-packages\\sklearn\\svm\\_base.py:1206: ConvergenceWarning: Liblinear failed to converge, increase the number of iterations.\n",
      "  warnings.warn(\n"
     ]
    },
    {
     "name": "stdout",
     "output_type": "stream",
     "text": [
      "Processing Fold # 2\n",
      "  - Training score =  0.9304347826086956\n",
      "  - Testing score =  0.908695652173913\n"
     ]
    },
    {
     "name": "stderr",
     "output_type": "stream",
     "text": [
      "C:\\Users\\jloyd\\anaconda3\\lib\\site-packages\\sklearn\\svm\\_base.py:1206: ConvergenceWarning: Liblinear failed to converge, increase the number of iterations.\n",
      "  warnings.warn(\n"
     ]
    },
    {
     "name": "stdout",
     "output_type": "stream",
     "text": [
      "Processing Fold # 3\n",
      "  - Training score =  0.9202898550724637\n",
      "  - Testing score =  0.946376811594203\n"
     ]
    },
    {
     "name": "stderr",
     "output_type": "stream",
     "text": [
      "C:\\Users\\jloyd\\anaconda3\\lib\\site-packages\\sklearn\\svm\\_base.py:1206: ConvergenceWarning: Liblinear failed to converge, increase the number of iterations.\n",
      "  warnings.warn(\n"
     ]
    },
    {
     "name": "stdout",
     "output_type": "stream",
     "text": [
      "Processing Fold # 4\n",
      "  - Training score =  0.927536231884058\n",
      "  - Testing score =  0.9202898550724637\n"
     ]
    },
    {
     "name": "stderr",
     "output_type": "stream",
     "text": [
      "C:\\Users\\jloyd\\anaconda3\\lib\\site-packages\\sklearn\\svm\\_base.py:1206: ConvergenceWarning: Liblinear failed to converge, increase the number of iterations.\n",
      "  warnings.warn(\n"
     ]
    },
    {
     "name": "stdout",
     "output_type": "stream",
     "text": [
      "Processing Fold # 5\n",
      "  - Training score =  0.9358695652173913\n",
      "  - Testing score =  0.9246376811594202\n",
      "TrainScore: 0.9278985507246377\n",
      "TestScore: 0.9246376811594204\n"
     ]
    },
    {
     "name": "stderr",
     "output_type": "stream",
     "text": [
      "C:\\Users\\jloyd\\anaconda3\\lib\\site-packages\\sklearn\\svm\\_base.py:1206: ConvergenceWarning: Liblinear failed to converge, increase the number of iterations.\n",
      "  warnings.warn(\n"
     ]
    },
    {
     "name": "stdout",
     "output_type": "stream",
     "text": [
      "Processing Fold # 1\n",
      "  - Training score =  0.9253623188405797\n",
      "  - Testing score =  0.9231884057971015\n"
     ]
    },
    {
     "name": "stderr",
     "output_type": "stream",
     "text": [
      "C:\\Users\\jloyd\\anaconda3\\lib\\site-packages\\sklearn\\svm\\_base.py:1206: ConvergenceWarning: Liblinear failed to converge, increase the number of iterations.\n",
      "  warnings.warn(\n"
     ]
    },
    {
     "name": "stdout",
     "output_type": "stream",
     "text": [
      "Processing Fold # 2\n",
      "  - Training score =  0.9322463768115942\n",
      "  - Testing score =  0.908695652173913\n"
     ]
    },
    {
     "name": "stderr",
     "output_type": "stream",
     "text": [
      "C:\\Users\\jloyd\\anaconda3\\lib\\site-packages\\sklearn\\svm\\_base.py:1206: ConvergenceWarning: Liblinear failed to converge, increase the number of iterations.\n",
      "  warnings.warn(\n"
     ]
    },
    {
     "name": "stdout",
     "output_type": "stream",
     "text": [
      "Processing Fold # 3\n",
      "  - Training score =  0.9210144927536232\n",
      "  - Testing score =  0.9449275362318841\n"
     ]
    },
    {
     "name": "stderr",
     "output_type": "stream",
     "text": [
      "C:\\Users\\jloyd\\anaconda3\\lib\\site-packages\\sklearn\\svm\\_base.py:1206: ConvergenceWarning: Liblinear failed to converge, increase the number of iterations.\n",
      "  warnings.warn(\n"
     ]
    },
    {
     "name": "stdout",
     "output_type": "stream",
     "text": [
      "Processing Fold # 4\n",
      "  - Training score =  0.9260869565217391\n",
      "  - Testing score =  0.9188405797101449\n"
     ]
    },
    {
     "name": "stderr",
     "output_type": "stream",
     "text": [
      "C:\\Users\\jloyd\\anaconda3\\lib\\site-packages\\sklearn\\svm\\_base.py:1206: ConvergenceWarning: Liblinear failed to converge, increase the number of iterations.\n",
      "  warnings.warn(\n"
     ]
    },
    {
     "name": "stdout",
     "output_type": "stream",
     "text": [
      "Processing Fold # 5\n",
      "  - Training score =  0.9358695652173913\n",
      "  - Testing score =  0.9246376811594202\n",
      "TrainScore: 0.9281159420289855\n",
      "TestScore: 0.9240579710144928\n"
     ]
    },
    {
     "name": "stderr",
     "output_type": "stream",
     "text": [
      "C:\\Users\\jloyd\\anaconda3\\lib\\site-packages\\sklearn\\svm\\_base.py:1206: ConvergenceWarning: Liblinear failed to converge, increase the number of iterations.\n",
      "  warnings.warn(\n"
     ]
    },
    {
     "name": "stdout",
     "output_type": "stream",
     "text": [
      "Processing Fold # 1\n",
      "  - Training score =  0.9235507246376812\n",
      "  - Testing score =  0.9260869565217391\n"
     ]
    },
    {
     "name": "stderr",
     "output_type": "stream",
     "text": [
      "C:\\Users\\jloyd\\anaconda3\\lib\\site-packages\\sklearn\\svm\\_base.py:1206: ConvergenceWarning: Liblinear failed to converge, increase the number of iterations.\n",
      "  warnings.warn(\n"
     ]
    },
    {
     "name": "stdout",
     "output_type": "stream",
     "text": [
      "Processing Fold # 2\n",
      "  - Training score =  0.9326086956521739\n",
      "  - Testing score =  0.908695652173913\n"
     ]
    },
    {
     "name": "stderr",
     "output_type": "stream",
     "text": [
      "C:\\Users\\jloyd\\anaconda3\\lib\\site-packages\\sklearn\\svm\\_base.py:1206: ConvergenceWarning: Liblinear failed to converge, increase the number of iterations.\n",
      "  warnings.warn(\n"
     ]
    },
    {
     "name": "stdout",
     "output_type": "stream",
     "text": [
      "Processing Fold # 3\n",
      "  - Training score =  0.9202898550724637\n",
      "  - Testing score =  0.9434782608695652\n"
     ]
    },
    {
     "name": "stderr",
     "output_type": "stream",
     "text": [
      "C:\\Users\\jloyd\\anaconda3\\lib\\site-packages\\sklearn\\svm\\_base.py:1206: ConvergenceWarning: Liblinear failed to converge, increase the number of iterations.\n",
      "  warnings.warn(\n"
     ]
    },
    {
     "name": "stdout",
     "output_type": "stream",
     "text": [
      "Processing Fold # 4\n",
      "  - Training score =  0.9268115942028986\n",
      "  - Testing score =  0.9188405797101449\n"
     ]
    },
    {
     "name": "stderr",
     "output_type": "stream",
     "text": [
      "C:\\Users\\jloyd\\anaconda3\\lib\\site-packages\\sklearn\\svm\\_base.py:1206: ConvergenceWarning: Liblinear failed to converge, increase the number of iterations.\n",
      "  warnings.warn(\n"
     ]
    },
    {
     "name": "stdout",
     "output_type": "stream",
     "text": [
      "Processing Fold # 5\n",
      "  - Training score =  0.9373188405797102\n",
      "  - Testing score =  0.9260869565217391\n",
      "TrainScore: 0.9281159420289855\n",
      "TestScore: 0.9246376811594204\n"
     ]
    },
    {
     "name": "stderr",
     "output_type": "stream",
     "text": [
      "C:\\Users\\jloyd\\anaconda3\\lib\\site-packages\\sklearn\\svm\\_base.py:1206: ConvergenceWarning: Liblinear failed to converge, increase the number of iterations.\n",
      "  warnings.warn(\n"
     ]
    },
    {
     "name": "stdout",
     "output_type": "stream",
     "text": [
      "Processing Fold # 1\n",
      "  - Training score =  0.9239130434782609\n",
      "  - Testing score =  0.9260869565217391\n"
     ]
    },
    {
     "name": "stderr",
     "output_type": "stream",
     "text": [
      "C:\\Users\\jloyd\\anaconda3\\lib\\site-packages\\sklearn\\svm\\_base.py:1206: ConvergenceWarning: Liblinear failed to converge, increase the number of iterations.\n",
      "  warnings.warn(\n"
     ]
    },
    {
     "name": "stdout",
     "output_type": "stream",
     "text": [
      "Processing Fold # 2\n",
      "  - Training score =  0.9326086956521739\n",
      "  - Testing score =  0.9101449275362319\n"
     ]
    },
    {
     "name": "stderr",
     "output_type": "stream",
     "text": [
      "C:\\Users\\jloyd\\anaconda3\\lib\\site-packages\\sklearn\\svm\\_base.py:1206: ConvergenceWarning: Liblinear failed to converge, increase the number of iterations.\n",
      "  warnings.warn(\n"
     ]
    },
    {
     "name": "stdout",
     "output_type": "stream",
     "text": [
      "Processing Fold # 3\n",
      "  - Training score =  0.9206521739130434\n",
      "  - Testing score =  0.9420289855072463\n"
     ]
    },
    {
     "name": "stderr",
     "output_type": "stream",
     "text": [
      "C:\\Users\\jloyd\\anaconda3\\lib\\site-packages\\sklearn\\svm\\_base.py:1206: ConvergenceWarning: Liblinear failed to converge, increase the number of iterations.\n",
      "  warnings.warn(\n"
     ]
    },
    {
     "name": "stdout",
     "output_type": "stream",
     "text": [
      "Processing Fold # 4\n",
      "  - Training score =  0.925\n",
      "  - Testing score =  0.9173913043478261\n"
     ]
    },
    {
     "name": "stderr",
     "output_type": "stream",
     "text": [
      "C:\\Users\\jloyd\\anaconda3\\lib\\site-packages\\sklearn\\svm\\_base.py:1206: ConvergenceWarning: Liblinear failed to converge, increase the number of iterations.\n",
      "  warnings.warn(\n"
     ]
    },
    {
     "name": "stdout",
     "output_type": "stream",
     "text": [
      "Processing Fold # 5\n",
      "  - Training score =  0.9347826086956522\n",
      "  - Testing score =  0.9246376811594202\n",
      "TrainScore: 0.9273913043478261\n",
      "TestScore: 0.9240579710144928\n"
     ]
    },
    {
     "name": "stderr",
     "output_type": "stream",
     "text": [
      "C:\\Users\\jloyd\\anaconda3\\lib\\site-packages\\sklearn\\svm\\_base.py:1206: ConvergenceWarning: Liblinear failed to converge, increase the number of iterations.\n",
      "  warnings.warn(\n"
     ]
    },
    {
     "name": "stdout",
     "output_type": "stream",
     "text": [
      "Processing Fold # 1\n",
      "  - Training score =  0.9264492753623188\n",
      "  - Testing score =  0.9231884057971015\n"
     ]
    },
    {
     "name": "stderr",
     "output_type": "stream",
     "text": [
      "C:\\Users\\jloyd\\anaconda3\\lib\\site-packages\\sklearn\\svm\\_base.py:1206: ConvergenceWarning: Liblinear failed to converge, increase the number of iterations.\n",
      "  warnings.warn(\n"
     ]
    },
    {
     "name": "stdout",
     "output_type": "stream",
     "text": [
      "Processing Fold # 2\n",
      "  - Training score =  0.9333333333333333\n",
      "  - Testing score =  0.9101449275362319\n"
     ]
    },
    {
     "name": "stderr",
     "output_type": "stream",
     "text": [
      "C:\\Users\\jloyd\\anaconda3\\lib\\site-packages\\sklearn\\svm\\_base.py:1206: ConvergenceWarning: Liblinear failed to converge, increase the number of iterations.\n",
      "  warnings.warn(\n"
     ]
    },
    {
     "name": "stdout",
     "output_type": "stream",
     "text": [
      "Processing Fold # 3\n",
      "  - Training score =  0.9213768115942029\n",
      "  - Testing score =  0.9478260869565217\n"
     ]
    },
    {
     "name": "stderr",
     "output_type": "stream",
     "text": [
      "C:\\Users\\jloyd\\anaconda3\\lib\\site-packages\\sklearn\\svm\\_base.py:1206: ConvergenceWarning: Liblinear failed to converge, increase the number of iterations.\n",
      "  warnings.warn(\n"
     ]
    },
    {
     "name": "stdout",
     "output_type": "stream",
     "text": [
      "Processing Fold # 4\n",
      "  - Training score =  0.9242753623188406\n",
      "  - Testing score =  0.9173913043478261\n"
     ]
    },
    {
     "name": "stderr",
     "output_type": "stream",
     "text": [
      "C:\\Users\\jloyd\\anaconda3\\lib\\site-packages\\sklearn\\svm\\_base.py:1206: ConvergenceWarning: Liblinear failed to converge, increase the number of iterations.\n",
      "  warnings.warn(\n"
     ]
    },
    {
     "name": "stdout",
     "output_type": "stream",
     "text": [
      "Processing Fold # 5\n",
      "  - Training score =  0.9380434782608695\n",
      "  - Testing score =  0.9231884057971015\n",
      "TrainScore: 0.928695652173913\n",
      "TestScore: 0.9243478260869565\n"
     ]
    },
    {
     "name": "stderr",
     "output_type": "stream",
     "text": [
      "C:\\Users\\jloyd\\anaconda3\\lib\\site-packages\\sklearn\\svm\\_base.py:1206: ConvergenceWarning: Liblinear failed to converge, increase the number of iterations.\n",
      "  warnings.warn(\n"
     ]
    },
    {
     "name": "stdout",
     "output_type": "stream",
     "text": [
      "Processing Fold # 1\n",
      "  - Training score =  0.9278985507246377\n",
      "  - Testing score =  0.9217391304347826\n"
     ]
    },
    {
     "name": "stderr",
     "output_type": "stream",
     "text": [
      "C:\\Users\\jloyd\\anaconda3\\lib\\site-packages\\sklearn\\svm\\_base.py:1206: ConvergenceWarning: Liblinear failed to converge, increase the number of iterations.\n",
      "  warnings.warn(\n"
     ]
    },
    {
     "name": "stdout",
     "output_type": "stream",
     "text": [
      "Processing Fold # 2\n",
      "  - Training score =  0.9322463768115942\n",
      "  - Testing score =  0.908695652173913\n"
     ]
    },
    {
     "name": "stderr",
     "output_type": "stream",
     "text": [
      "C:\\Users\\jloyd\\anaconda3\\lib\\site-packages\\sklearn\\svm\\_base.py:1206: ConvergenceWarning: Liblinear failed to converge, increase the number of iterations.\n",
      "  warnings.warn(\n"
     ]
    },
    {
     "name": "stdout",
     "output_type": "stream",
     "text": [
      "Processing Fold # 3\n",
      "  - Training score =  0.922463768115942\n",
      "  - Testing score =  0.9478260869565217\n"
     ]
    },
    {
     "name": "stderr",
     "output_type": "stream",
     "text": [
      "C:\\Users\\jloyd\\anaconda3\\lib\\site-packages\\sklearn\\svm\\_base.py:1206: ConvergenceWarning: Liblinear failed to converge, increase the number of iterations.\n",
      "  warnings.warn(\n"
     ]
    },
    {
     "name": "stdout",
     "output_type": "stream",
     "text": [
      "Processing Fold # 4\n",
      "  - Training score =  0.9264492753623188\n",
      "  - Testing score =  0.9173913043478261\n"
     ]
    },
    {
     "name": "stderr",
     "output_type": "stream",
     "text": [
      "C:\\Users\\jloyd\\anaconda3\\lib\\site-packages\\sklearn\\svm\\_base.py:1206: ConvergenceWarning: Liblinear failed to converge, increase the number of iterations.\n",
      "  warnings.warn(\n"
     ]
    },
    {
     "name": "stdout",
     "output_type": "stream",
     "text": [
      "Processing Fold # 5\n",
      "  - Training score =  0.9351449275362319\n",
      "  - Testing score =  0.9202898550724637\n",
      "TrainScore: 0.9288405797101449\n",
      "TestScore: 0.9231884057971014\n"
     ]
    },
    {
     "name": "stderr",
     "output_type": "stream",
     "text": [
      "C:\\Users\\jloyd\\anaconda3\\lib\\site-packages\\sklearn\\svm\\_base.py:1206: ConvergenceWarning: Liblinear failed to converge, increase the number of iterations.\n",
      "  warnings.warn(\n"
     ]
    },
    {
     "name": "stdout",
     "output_type": "stream",
     "text": [
      "Processing Fold # 1\n",
      "  - Training score =  0.9271739130434783\n",
      "  - Testing score =  0.9231884057971015\n"
     ]
    },
    {
     "name": "stderr",
     "output_type": "stream",
     "text": [
      "C:\\Users\\jloyd\\anaconda3\\lib\\site-packages\\sklearn\\svm\\_base.py:1206: ConvergenceWarning: Liblinear failed to converge, increase the number of iterations.\n",
      "  warnings.warn(\n"
     ]
    },
    {
     "name": "stdout",
     "output_type": "stream",
     "text": [
      "Processing Fold # 2\n",
      "  - Training score =  0.9304347826086956\n",
      "  - Testing score =  0.9028985507246376\n"
     ]
    },
    {
     "name": "stderr",
     "output_type": "stream",
     "text": [
      "C:\\Users\\jloyd\\anaconda3\\lib\\site-packages\\sklearn\\svm\\_base.py:1206: ConvergenceWarning: Liblinear failed to converge, increase the number of iterations.\n",
      "  warnings.warn(\n"
     ]
    },
    {
     "name": "stdout",
     "output_type": "stream",
     "text": [
      "Processing Fold # 3\n",
      "  - Training score =  0.9199275362318841\n",
      "  - Testing score =  0.946376811594203\n"
     ]
    },
    {
     "name": "stderr",
     "output_type": "stream",
     "text": [
      "C:\\Users\\jloyd\\anaconda3\\lib\\site-packages\\sklearn\\svm\\_base.py:1206: ConvergenceWarning: Liblinear failed to converge, increase the number of iterations.\n",
      "  warnings.warn(\n"
     ]
    },
    {
     "name": "stdout",
     "output_type": "stream",
     "text": [
      "Processing Fold # 4\n",
      "  - Training score =  0.9268115942028986\n",
      "  - Testing score =  0.9188405797101449\n",
      "Processing Fold # 5\n",
      "  - Training score =  0.9376811594202898\n",
      "  - Testing score =  0.9217391304347826\n",
      "TrainScore: 0.9284057971014494\n",
      "TestScore: 0.9226086956521738\n"
     ]
    },
    {
     "name": "stderr",
     "output_type": "stream",
     "text": [
      "C:\\Users\\jloyd\\anaconda3\\lib\\site-packages\\sklearn\\svm\\_base.py:1206: ConvergenceWarning: Liblinear failed to converge, increase the number of iterations.\n",
      "  warnings.warn(\n"
     ]
    }
   ],
   "source": [
    "# Conduct LSVC with KFold\n",
    "train_scores = list() \n",
    "test_scores = list()\n",
    "for C in c_vals:\n",
    "    LSVC = LinearSVC(max_iter=100000, C=C)\n",
    "    i = 1\n",
    "    train_score = 0\n",
    "    test_score = 0\n",
    "\n",
    "    for train_index, test_index in cv.split(X):\n",
    "        X_train, X_test, Y_train, Y_test = X[train_index], X[test_index], Y[train_index], Y[test_index]\n",
    "        LSVC.fit(X_train, Y_train)\n",
    "\n",
    "        print('Processing Fold #', i)\n",
    "        print(\"  - Training score = \", LSVC.score(X_train, Y_train))\n",
    "        print(\"  - Testing score = \", LSVC.score(X_test, Y_test))\n",
    "        train_score += LSVC.score(X_train, Y_train)\n",
    "        test_score += LSVC.score(X_test, Y_test)\n",
    "\n",
    "        i += 1\n",
    "    train_score /= folds\n",
    "    test_score /= folds\n",
    "    print(f'TrainScore: {train_score}\\nTestScore: {test_score}')\n",
    "    train_scores.append(train_score)\n",
    "    test_scores.append(test_score)"
   ]
  },
  {
   "cell_type": "code",
   "execution_count": 16,
   "id": "c5ca9cdd",
   "metadata": {},
   "outputs": [
    {
     "data": {
      "image/png": "[encoded data removed]",
      "text/plain": [
       "<Figure size 432x288 with 1 Axes>"
      ]
     },
     "metadata": {
      "needs_background": "light"
     },
     "output_type": "display_data"
    }
   ],
   "source": [
    "plt.plot(c_vals, test_scores, label=\"Validation\")\n",
    "plt.plot(c_vals, train_scores, label=\"Train\")\n",
    "plt.title('Linear SVC Varying C Values')\n",
    "plt.ylabel('Score')\n",
    "plt.xlabel('C')\n",
    "plt.legend()\n",
    "fig1 = plt.gcf()\n",
    "plt.show()\n",
    "fig1.savefig('LSVCfig2.jpg')"
   ]
  },
  {
   "cell_type": "code",
   "execution_count": 17,
   "id": "f33af9c1",
   "metadata": {},
   "outputs": [
    {
     "name": "stdout",
     "output_type": "stream",
     "text": [
      "0.9252173913043478 (array([2], dtype=int64),)\n",
      "C_value:  0.030000000000000006\n",
      "0.9279710144927537\n"
     ]
    }
   ],
   "source": [
    "print(np.max(test_scores), np.where(np.isclose(test_scores, np.max(test_scores))))\n",
    "print(\"C_value: \", c_vals[2])\n",
    "print(train_scores[2])"
   ]
  },
  {
   "cell_type": "code",
   "execution_count": 18,
   "id": "e2306923",
   "metadata": {},
   "outputs": [
    {
     "name": "stdout",
     "output_type": "stream",
     "text": [
      "Testing Data for C = .03\n",
      "Training score =  0.9278260869565217\n",
      "Testing score =  0.9183318853171155\n",
      "[[636  38]\n",
      " [ 56 421]]\n"
     ]
    },
    {
     "name": "stderr",
     "output_type": "stream",
     "text": [
      "C:\\Users\\jloyd\\anaconda3\\lib\\site-packages\\sklearn\\svm\\_base.py:1206: ConvergenceWarning: Liblinear failed to converge, increase the number of iterations.\n",
      "  warnings.warn(\n"
     ]
    }
   ],
   "source": [
    "# Reset Train and Test Data\n",
    "X_train = np.array(train_set[list(train_set.columns[1:-1])])\n",
    "Y_train = np.array(train_set[\"class\"])\n",
    "X_test = np.array(test_set[list(train_set.columns[1:-1])])\n",
    "Y_test = np.array(test_set[\"class\"])\n",
    "\n",
    "# Conduct Best LSVC\n",
    "CLF = LinearSVC(max_iter=100000, C=.03)\n",
    "CLF.fit(X_train, Y_train)\n",
    "print(\"Testing Data for C = .03\")\n",
    "print(\"Training score = \", CLF.score(X_train, Y_train))\n",
    "print(\"Testing score = \", CLF.score(X_test, Y_test))\n",
    "\n",
    "cf = confusion_matrix(Y_test, CLF.predict(X_test))\n",
    "print(cf)"
   ]
  },
  {
   "cell_type": "code",
   "execution_count": 19,
   "id": "6d9369cc",
   "metadata": {},
   "outputs": [
    {
     "name": "stdout",
     "output_type": "stream",
     "text": [
      "[[-0.12399362  0.00179302  0.03178329  0.10917591  0.41149027  0.26217034\n",
      "   0.90570787  0.55493115  0.30429159  0.00864681  0.07318537 -0.09745835\n",
      "  -0.03763492 -0.00439106  0.03950963  0.50312499  0.36756828  0.32328031\n",
      "   0.01373781  0.18432922  0.18293057  0.10663244  0.61945427  0.67546033\n",
      "  -0.41123647 -0.20538517 -0.67292673  0.0241797  -0.29600252 -0.09644324\n",
      "  -0.14571183 -0.08344856 -0.20445693 -0.08605043 -0.10267404  0.15804491\n",
      "  -0.09120337 -0.20070139 -0.25821229 -0.21251807 -0.2199     -0.35000444\n",
      "  -0.16823232 -0.34049273 -0.2187863  -0.44130873 -0.1242     -0.14825161\n",
      "  -0.2962497  -0.13558189 -0.02237535  0.63053655  0.79592797  0.15867248\n",
      "   0.02233613  0.0050538  -0.00171686]] Index(['word_freq_make', 'word_freq_address', 'word_freq_all', 'word_freq_3d',\n",
      "       'word_freq_our', 'word_freq_over', 'word_freq_remove',\n",
      "       'word_freq_internet', 'word_freq_order', 'word_freq_mail',\n",
      "       'word_freq_receive', 'word_freq_will', 'word_freq_people',\n",
      "       'word_freq_report', 'word_freq_addresses', 'word_freq_free',\n",
      "       'word_freq_business', 'word_freq_email', 'word_freq_you',\n",
      "       'word_freq_credit', 'word_freq_your', 'word_freq_font', 'word_freq_000',\n",
      "       'word_freq_money', 'word_freq_hp', 'word_freq_hpl', 'word_freq_george',\n",
      "       'word_freq_650', 'word_freq_lab', 'word_freq_labs', 'word_freq_telnet',\n",
      "       'word_freq_857', 'word_freq_data', 'word_freq_415', 'word_freq_85',\n",
      "       'word_freq_technology', 'word_freq_1999', 'word_freq_parts',\n",
      "       'word_freq_pm', 'word_freq_direct', 'word_freq_cs', 'word_freq_meeting',\n",
      "       'word_freq_original', 'word_freq_project', 'word_freq_re',\n",
      "       'word_freq_edu', 'word_freq_table', 'word_freq_conference',\n",
      "       'char_freq_%3B', 'char_freq_%28', 'char_freq_%5B', 'char_freq_%21',\n",
      "       'char_freq_%24', 'char_freq_%23', 'capital_run_length_average',\n",
      "       'capital_run_length_longest', 'capital_run_length_total'],\n",
      "      dtype='object')\n"
     ]
    },
    {
     "name": "stderr",
     "output_type": "stream",
     "text": [
      "C:\\Users\\jloyd\\anaconda3\\lib\\site-packages\\sklearn\\svm\\_base.py:284: ConvergenceWarning: Solver terminated early (max_iter=100000).  Consider pre-processing your data with StandardScaler or MinMaxScaler.\n",
      "  warnings.warn(\n"
     ]
    }
   ],
   "source": [
    "CLF = svm.SVC(max_iter=100000, C=.03, kernel='linear')\n",
    "CLF.fit(X_train, Y_train)\n",
    "print(CLF.coef_, train_set.columns[1:-1])"
   ]
  },
  {
   "cell_type": "code",
   "execution_count": null,
   "id": "87b1f1b8",
   "metadata": {},
   "outputs": [],
   "source": []
  }
 ],
 "metadata": {
  "kernelspec": {
   "display_name": "Python 3 (ipykernel)",
   "language": "python",
   "name": "python3"
  },
  "language_info": {
   "codemirror_mode": {
    "name": "ipython",
    "version": 3
   },
   "file_extension": ".py",
   "mimetype": "text/x-python",
   "name": "python",
   "nbconvert_exporter": "python",
   "pygments_lexer": "ipython3",
   "version": "3.9.7"
  }
 },
 "nbformat": 4,
 "nbformat_minor": 5
}
